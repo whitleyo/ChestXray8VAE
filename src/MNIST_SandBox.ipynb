{
 "cells": [
  {
   "cell_type": "markdown",
   "metadata": {},
   "source": [
    "# SandBox for MNIST Dataset\n",
    "\n",
    "## Overview:\n",
    "\n",
    "Due to initial hiccups with training for Chest XRay Dataset, we'll do a sanity check on the model using MNIST.\n",
    "Notebook inspired by this one: https://colab.research.google.com/github/smartgeometry-ucl/dl4g/blob/master/variational_autoencoder.ipynb#scrollTo=mMAC98JRb41t\n",
    "\n",
    "Note that in their case they used a binary crossentropy loss as opposed to a gaussian loss.\n",
    "\n",
    "## Data Source\n",
    "\n",
    "\n",
    "### Publication\n",
    "\n",
    "https://arxiv.org/abs/1705.02315\n",
    "\n",
    "### URL\n",
    "\n",
    "https://nihcc.app.box.com/v/ChestXray-NIHCC/folder/37178474737"
   ]
  },
  {
   "cell_type": "code",
   "execution_count": 1,
   "metadata": {},
   "outputs": [],
   "source": [
    "import torch\n",
    "from torchvision import transforms\n",
    "from torchvision.datasets import MNIST\n",
    "from torch.utils.data import DataLoader\n",
    "import VAE\n",
    "import numpy as np\n",
    "import pandas as pd\n",
    "import seaborn as sns\n",
    "from skimage import io\n",
    "from matplotlib import pyplot as plt\n",
    "from matplotlib import cm\n",
    "from warnings import warn\n",
    "import os\n",
    "import re\n",
    "import datetime\n",
    "from tqdm import tqdm\n",
    "import gc"
   ]
  },
  {
   "cell_type": "code",
   "execution_count": 2,
   "metadata": {},
   "outputs": [
    {
     "name": "stdout",
     "output_type": "stream",
     "text": [
      "using GPU\n"
     ]
    }
   ],
   "source": [
    "# run options\n",
    "torch.manual_seed(42)\n",
    "num_epochs = 20\n",
    "batch_size = 1000\n",
    "learning_rate = 1e-3\n",
    "use_GPU = True\n",
    "if not torch.cuda.is_available():\n",
    "    warn('torch.cuda.is_available() returned False, using CPU')\n",
    "else:\n",
    "    print('using GPU')\n",
    "\n",
    "device = torch.device(\"cuda:0\" if use_GPU and torch.cuda.is_available() else \"cpu\")"
   ]
  },
  {
   "cell_type": "code",
   "execution_count": 3,
   "metadata": {},
   "outputs": [],
   "source": [
    "# top_dir = '/home/owhitley/projects/chest_xray_8'\n",
    "top_dir = 'D:\\\\projects\\\\chest_XRay_8'\n",
    "# mean and std deviation manually found on random batch of 1000 samples\n",
    "img_transform = transforms.Compose([\n",
    "    transforms.ToTensor(),\n",
    "    transforms.Normalize(0.1314, 0.3090)\n",
    "])\n",
    "train_dataset = MNIST(root=os.path.join(top_dir, 'data\\\\MNIST'), download=True, train=True, transform=img_transform)\n",
    "train_dataloader = DataLoader(train_dataset, batch_size=batch_size, shuffle=True)\n",
    "test_dataset = MNIST(root=os.path.join(top_dir, 'data\\\\MNIST'), download=True, train=False, transform=img_transform)\n",
    "test_dataloader = DataLoader(test_dataset, batch_size=batch_size, shuffle=True)\n",
    "\n"
   ]
  },
  {
   "cell_type": "code",
   "execution_count": 4,
   "metadata": {},
   "outputs": [
    {
     "data": {
      "text/plain": [
       "VariationalAutoEncoder(\n",
       "  (encoder): Encoder(\n",
       "    (conv_layers): ModuleList(\n",
       "      (0): Conv2d(1, 4, kernel_size=(4, 4), stride=(2, 2), padding=(1, 1))\n",
       "      (1): Conv2d(4, 8, kernel_size=(4, 4), stride=(2, 2), padding=(1, 1))\n",
       "    )\n",
       "    (fc_mu): Linear(in_features=392, out_features=20, bias=True)\n",
       "    (fc_logvar): Linear(in_features=392, out_features=20, bias=True)\n",
       "  )\n",
       "  (decoder): Decoder(\n",
       "    (tconv_layers): ModuleList(\n",
       "      (0): ConvTranspose2d(8, 4, kernel_size=(4, 4), stride=(2, 2), padding=(1, 1))\n",
       "      (1): ConvTranspose2d(4, 1, kernel_size=(4, 4), stride=(2, 2), padding=(1, 1))\n",
       "    )\n",
       "    (fc): Linear(in_features=20, out_features=392, bias=True)\n",
       "  )\n",
       ")"
      ]
     },
     "execution_count": 4,
     "metadata": {},
     "output_type": "execute_result"
    }
   ],
   "source": [
    "vae_model = VAE.VariationalAutoEncoder(input_size = 28)\n",
    "vae_model.to(device)"
   ]
  },
  {
   "cell_type": "markdown",
   "metadata": {},
   "source": [
    "# Train Model"
   ]
  },
  {
   "cell_type": "code",
   "execution_count": 5,
   "metadata": {},
   "outputs": [
    {
     "name": "stdout",
     "output_type": "stream",
     "text": [
      "Training ...\n",
      "Epoch [1 / 20] Loss: 1030983.390625\n",
      "Epoch [2 / 20] Loss: 899553.780208\n",
      "Epoch [3 / 20] Loss: 855139.262500\n",
      "Epoch [4 / 20] Loss: 838325.386458\n",
      "Epoch [5 / 20] Loss: 830355.572917\n",
      "Epoch [6 / 20] Loss: 825733.332292\n",
      "Epoch [7 / 20] Loss: 823155.404167\n",
      "Epoch [8 / 20] Loss: 821706.212500\n",
      "Epoch [9 / 20] Loss: 820813.320833\n",
      "Epoch [10 / 20] Loss: 820206.097917\n",
      "Epoch [11 / 20] Loss: 819743.817708\n",
      "Epoch [12 / 20] Loss: 819401.400000\n",
      "Epoch [13 / 20] Loss: 819123.201042\n",
      "Epoch [14 / 20] Loss: 818888.739583\n",
      "Epoch [15 / 20] Loss: 818698.621875\n",
      "Epoch [16 / 20] Loss: 818557.400000\n",
      "Epoch [17 / 20] Loss: 818452.001042\n",
      "Epoch [18 / 20] Loss: 818349.431250\n",
      "Epoch [19 / 20] Loss: 818280.776042\n",
      "Epoch [20 / 20] Loss: 818204.715625\n"
     ]
    }
   ],
   "source": [
    "optimizer = torch.optim.Adam(params=vae_model.parameters(), lr=learning_rate, weight_decay=1e-5)\n",
    "\n",
    "# set to training mode\n",
    "vae_model.set_train_status(True)\n",
    "\n",
    "train_loss_avg = []\n",
    "\n",
    "print('Training ...')\n",
    "for epoch in range(num_epochs):\n",
    "    train_loss_avg.append(0)\n",
    "    num_batches = 0\n",
    "    \n",
    "    for image_batch, _ in train_dataloader:\n",
    "        \n",
    "        x = image_batch.to(device)\n",
    "\n",
    "        # vae reconstruction\n",
    "        recon_x, z, mu, logvar = vae_model.forward(x)\n",
    "        \n",
    "        # reconstruction error\n",
    "        loss, _, _ = VAE.vae_loss(recon_x, x, mu, logvar)\n",
    "        # print('Batch loss:{}'.format(loss.item()))\n",
    "        \n",
    "        # backpropagation\n",
    "        optimizer.zero_grad()\n",
    "        loss.backward()\n",
    "        \n",
    "        # one step of the optmizer (using the gradients from backpropagation)\n",
    "        optimizer.step()\n",
    "        \n",
    "        train_loss_avg[-1] += loss.item()\n",
    "        num_batches += 1\n",
    "        \n",
    "    train_loss_avg[-1] /= num_batches\n",
    "    print('Epoch [%d / %d] Loss: %f' % (epoch+1, num_epochs, train_loss_avg[-1]))\n",
    "    gc.collect()"
   ]
  },
  {
   "cell_type": "code",
   "execution_count": 7,
   "metadata": {},
   "outputs": [
    {
     "data": {
      "text/plain": [
       "[<matplotlib.lines.Line2D at 0x2b8090765b0>]"
      ]
     },
     "execution_count": 7,
     "metadata": {},
     "output_type": "execute_result"
    },
    {
     "data": {
      "image/png": "[encoded data removed]",
      "text/plain": [
       "<Figure size 432x288 with 1 Axes>"
      ]
     },
     "metadata": {
      "needs_background": "light"
     },
     "output_type": "display_data"
    }
   ],
   "source": [
    "# training loss\n",
    "plt.plot(train_loss_avg)"
   ]
  },
  {
   "cell_type": "code",
   "execution_count": 8,
   "metadata": {},
   "outputs": [
    {
     "name": "stdout",
     "output_type": "stream",
     "text": [
      "Original images\n"
     ]
    },
    {
     "data": {
      "image/png": "[encoded data removed]",
      "text/plain": [
       "<Figure size 432x288 with 1 Axes>"
      ]
     },
     "metadata": {
      "needs_background": "light"
     },
     "output_type": "display_data"
    },
    {
     "name": "stderr",
     "output_type": "stream",
     "text": [
      "Clipping input data to the valid range for imshow with RGB data ([0..1] for floats or [0..255] for integers).\n"
     ]
    },
    {
     "name": "stdout",
     "output_type": "stream",
     "text": [
      "VAE reconstruction:\n"
     ]
    },
    {
     "data": {
      "image/png": "[encoded data removed]",
      "text/plain": [
       "<Figure size 432x288 with 1 Axes>"
      ]
     },
     "metadata": {
      "needs_background": "light"
     },
     "output_type": "display_data"
    }
   ],
   "source": [
    "import numpy as np\n",
    "import matplotlib.pyplot as plt\n",
    "plt.ion()\n",
    "\n",
    "import torchvision.utils\n",
    "\n",
    "vae_model.set_train_status(False)\n",
    "\n",
    "# This function takes as an input the images to reconstruct\n",
    "# and the name of the model with which the reconstructions\n",
    "# are performed\n",
    "def to_img(x):\n",
    "    x = x.clamp(0, 1)\n",
    "    return x\n",
    "\n",
    "def show_image(img):\n",
    "    img = to_img(img)\n",
    "    npimg = img.numpy()\n",
    "    plt.imshow(np.transpose(npimg, (1, 2, 0)))\n",
    "\n",
    "def visualise_output(images, model):\n",
    "\n",
    "    with torch.no_grad():\n",
    "    \n",
    "        images = images.to(device)\n",
    "        images = to_img(images)\n",
    "        images, _, _, _ = model.forward(images)\n",
    "        np_imagegrid = torchvision.utils.make_grid(images[1:50], 10, 5).cpu().numpy()\n",
    "        plt.imshow(np.transpose(np_imagegrid, (1, 2, 0)))\n",
    "        plt.show()\n",
    "\n",
    "images, labels = iter(test_dataloader).next()\n",
    "\n",
    "# First visualise the original images\n",
    "print('Original images')\n",
    "show_image(torchvision.utils.make_grid(images[1:50],10,5))\n",
    "plt.show()\n",
    "\n",
    "# Reconstruct and visualise the images using the vae\n",
    "print('VAE reconstruction:')\n",
    "visualise_output(images, vae_model)"
   ]
  }
 ],
 "metadata": {
  "kernelspec": {
   "display_name": "Python 3",
   "language": "python",
   "name": "python3"
  },
  "language_info": {
   "codemirror_mode": {
    "name": "ipython",
    "version": 3
   },
   "file_extension": ".py",
   "mimetype": "text/x-python",
   "name": "python",
   "nbconvert_exporter": "python",
   "pygments_lexer": "ipython3",
   "version": "3.8.5"
  }
 },
 "nbformat": 4,
 "nbformat_minor": 4
}
