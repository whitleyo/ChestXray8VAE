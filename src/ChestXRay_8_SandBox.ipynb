{
 "cells": [
  {
   "cell_type": "markdown",
   "metadata": {},
   "source": [
    "# SandBox for Chest Xray Dataset Images\n",
    "\n",
    "## Data Source\n",
    "\n",
    "\n",
    "### Publication\n",
    "\n",
    "https://arxiv.org/abs/1705.02315\n",
    "\n",
    "### URL\n",
    "\n",
    "https://nihcc.app.box.com/v/ChestXray-NIHCC/folder/37178474737"
   ]
  },
  {
   "cell_type": "code",
   "execution_count": 1,
   "metadata": {},
   "outputs": [],
   "source": [
    "import torch\n",
    "import torch.nn as nn\n",
    "import torch.nn.functional as F\n",
    "import torch.optim as optim\n",
    "import torchvision\n",
    "from torchvision import transforms\n",
    "from torch.utils.data import Dataset, DataLoader\n",
    "from sklearn.model_selection import train_test_split\n",
    "import numpy as np\n",
    "import pandas as pd\n",
    "import seaborn as sns\n",
    "from skimage import io\n",
    "from matplotlib import pyplot as plt\n",
    "from matplotlib import cm\n",
    "from warnings import warn\n",
    "import os\n",
    "import re\n",
    "import datetime\n",
    "from tqdm import tqdm"
   ]
  },
  {
   "cell_type": "code",
   "execution_count": 2,
   "metadata": {},
   "outputs": [],
   "source": [
    "# set random seed\n",
    "np.random.seed(42)"
   ]
  },
  {
   "cell_type": "code",
   "execution_count": 3,
   "metadata": {},
   "outputs": [],
   "source": [
    "top_dir = '/home/owhitley/projects/chest_xray_8'\n",
    "data_dir = os.path.join(top_dir, 'data')\n",
    "image_dir = os.path.join(data_dir, 'images')\n",
    "output_dir = os.path.join(top_dir, 'results')\n",
    "if not os.path.exists(output_dir):\n",
    "    os.mkdir(output_dir)\n"
   ]
  },
  {
   "cell_type": "code",
   "execution_count": 4,
   "metadata": {},
   "outputs": [
    {
     "data": {
      "text/plain": [
       "['ChestXray_NIHCC_Download.py',\n",
       " 'ChestXray_NIHCC_Download_out.txt',\n",
       " 'images',\n",
       " 'ChestXray_NIHCC_Download_err.txt',\n",
       " 'Data_Entry_2017_v2020.csv',\n",
       " 'README.txt']"
      ]
     },
     "execution_count": 4,
     "metadata": {},
     "output_type": "execute_result"
    }
   ],
   "source": [
    "os.listdir(data_dir)"
   ]
  },
  {
   "cell_type": "markdown",
   "metadata": {},
   "source": [
    "# Examine Image Data\n",
    "\n",
    "Modified code from [here](https://matplotlib.org/3.3.3/gallery/images_contours_and_fields/multi_image.html#sphx-glr-gallery-images-contours-and-fields-multi-image-py)\n",
    "\n",
    "## Check a few typical examples"
   ]
  },
  {
   "cell_type": "code",
   "execution_count": 5,
   "metadata": {},
   "outputs": [
    {
     "data": {
      "text/plain": [
       "24999"
      ]
     },
     "execution_count": 5,
     "metadata": {},
     "output_type": "execute_result"
    }
   ],
   "source": [
    "# number of images downloaded\n",
    "len(os.listdir(image_dir))"
   ]
  },
  {
   "cell_type": "code",
   "execution_count": 6,
   "metadata": {},
   "outputs": [
    {
     "data": {
      "text/plain": [
       "['00006304_041.png',\n",
       " '00001498_000.png',\n",
       " '00004402_008.png',\n",
       " '00003028_069.png',\n",
       " '00001722_001.png']"
      ]
     },
     "execution_count": 6,
     "metadata": {},
     "output_type": "execute_result"
    }
   ],
   "source": [
    "# example image files\n",
    "ex_img_files = os.listdir(image_dir)[:5]\n",
    "ex_img_files"
   ]
  },
  {
   "cell_type": "code",
   "execution_count": 7,
   "metadata": {},
   "outputs": [
    {
     "data": {
      "text/plain": [
       "5"
      ]
     },
     "execution_count": 7,
     "metadata": {},
     "output_type": "execute_result"
    }
   ],
   "source": [
    "len(ex_img_files)"
   ]
  },
  {
   "cell_type": "code",
   "execution_count": 8,
   "metadata": {},
   "outputs": [],
   "source": [
    "\n",
    "def implot(imgs, rows, columns, fig_width, fig_height, channels = 1):\n",
    "\n",
    "    \n",
    "    m = 0\n",
    "    if channels == 1:\n",
    "        img_list = imgs\n",
    "    else:\n",
    "        img_list = []\n",
    "        if isinstance(imgs, np.ndarray):\n",
    "            n_imgs = imgs.shape[0]\n",
    "        else:\n",
    "            n_imgs = len(imgs)\n",
    "            imgs = np.array(imgs)\n",
    "            \n",
    "        for i in range(n_imgs):\n",
    "            for c in range(channels):\n",
    "                img_list.append(imgs[i, :, :, c])\n",
    "            \n",
    "        rows = n_imgs\n",
    "        columns = channels\n",
    "        print('ignoring arguments for rows and columns')\n",
    "       \n",
    "    fig, axs = plt.subplots(rows, columns, figsize=(fig_width, fig_height))\n",
    "    for i in range(rows):\n",
    "        for j in range(columns):\n",
    "            print(m)\n",
    "            ex_img = img_list[m]\n",
    "            if rows == 1:\n",
    "                sns.heatmap(ex_img, ax = axs[j])\n",
    "            elif columns == 1:\n",
    "                sns.heatmap(ex_img, ax = axs[i])\n",
    "            else:\n",
    "                sns.heatmap(ex_img, ax = axs[i, j])\n",
    "            m += 1\n",
    "\n",
    "    plt.show()\n",
    "img_list = [io.imread(os.path.join(image_dir, ex_img_files[m])) for m in range(len(ex_img_files))]    \n",
    "# implot(img_list, 1, 5, 18, 3)\n"
   ]
  },
  {
   "cell_type": "markdown",
   "metadata": {},
   "source": [
    "## Check a random sample of 1000 images for image 'shape'\n",
    "\n",
    "Earlier I had a problem with some of the images not being 1024 x 1024 x 1, so I'm going to have to confirm that there are are in fact images with multiple 'channels' or a depth of > 1, and that this isn't some artifact happening with one of the pytorch transforms."
   ]
  },
  {
   "cell_type": "code",
   "execution_count": 9,
   "metadata": {},
   "outputs": [
    {
     "name": "stderr",
     "output_type": "stream",
     "text": [
      "100%|██████████| 1000/1000 [00:12<00:00, 80.12it/s]\n",
      "/home/owhitley/anaconda3/envs/pytorch36/lib/python3.6/site-packages/seaborn/distributions.py:2557: FutureWarning: `distplot` is a deprecated function and will be removed in a future version. Please adapt your code to use either `displot` (a figure-level function with similar flexibility) or `histplot` (an axes-level function for histograms).\n",
      "  warnings.warn(msg, FutureWarning)\n"
     ]
    },
    {
     "data": {
      "text/plain": [
       "<AxesSubplot:ylabel='Density'>"
      ]
     },
     "execution_count": 9,
     "metadata": {},
     "output_type": "execute_result"
    },
    {
     "data": {
      "image/png": "[encoded data removed]",
      "text/plain": [
       "<Figure size 432x288 with 1 Axes>"
      ]
     },
     "metadata": {
      "needs_background": "light"
     },
     "output_type": "display_data"
    }
   ],
   "source": [
    "# check 1000 random images for having more than 1 channel\n",
    "\n",
    "random_img_files = np.random.choice(os.listdir(image_dir), replace = False, size = 1000)\n",
    "img_nc = np.repeat(-1, 3000).reshape((1000, 3))\n",
    "\n",
    "for i in tqdm(range(1000)):\n",
    "    img_i = io.imread(os.path.join(image_dir, random_img_files[i]))\n",
    "    if len(img_i.shape) > 2:\n",
    "        shape_i = img_i.shape\n",
    "        img_nc[i] = img_i.shape\n",
    "    else: \n",
    "        img_nc[i] = np.concatenate((img_i.shape, [1]))\n",
    "    \n",
    "    \n",
    "sns.distplot(img_nc[:,2])"
   ]
  },
  {
   "cell_type": "code",
   "execution_count": 10,
   "metadata": {},
   "outputs": [
    {
     "data": {
      "text/plain": [
       "16"
      ]
     },
     "execution_count": 10,
     "metadata": {},
     "output_type": "execute_result"
    }
   ],
   "source": [
    "np.sum(np.greater(img_nc[:, 2], 1))"
   ]
  },
  {
   "cell_type": "code",
   "execution_count": 11,
   "metadata": {},
   "outputs": [
    {
     "data": {
      "text/plain": [
       "array([[[1024, 1024,    4],\n",
       "        [1024, 1024,    4],\n",
       "        [1024, 1024,    4],\n",
       "        [1024, 1024,    4],\n",
       "        [1024, 1024,    4],\n",
       "        [1024, 1024,    4],\n",
       "        [1024, 1024,    4],\n",
       "        [1024, 1024,    4],\n",
       "        [1024, 1024,    4],\n",
       "        [1024, 1024,    4],\n",
       "        [1024, 1024,    4],\n",
       "        [1024, 1024,    4],\n",
       "        [1024, 1024,    4],\n",
       "        [1024, 1024,    4],\n",
       "        [1024, 1024,    4],\n",
       "        [1024, 1024,    4]]])"
      ]
     },
     "execution_count": 11,
     "metadata": {},
     "output_type": "execute_result"
    }
   ],
   "source": [
    "# it appears that some subset of the images has a depth of 4\n",
    "img_nc[np.where(np.greater(img_nc[:, 2], 1)), :]"
   ]
  },
  {
   "cell_type": "code",
   "execution_count": 12,
   "metadata": {},
   "outputs": [
    {
     "data": {
      "text/plain": [
       "array([[1024, 1024,    1],\n",
       "       [1024, 1024,    1],\n",
       "       [1024, 1024,    1],\n",
       "       [1024, 1024,    1],\n",
       "       [1024, 1024,    1]])"
      ]
     },
     "execution_count": 12,
     "metadata": {},
     "output_type": "execute_result"
    }
   ],
   "source": [
    "img_nc[:5,:]"
   ]
  },
  {
   "cell_type": "code",
   "execution_count": 13,
   "metadata": {},
   "outputs": [],
   "source": [
    "four_channel_img = np.array([io.imread(os.path.join(image_dir, x)) for x in random_img_files[np.where(np.greater(img_nc[:, 2], 1))]])"
   ]
  },
  {
   "cell_type": "code",
   "execution_count": 14,
   "metadata": {},
   "outputs": [],
   "source": [
    "# Check a few examples of \"four channel\" images. rows are cases, columns are 'channels'\n",
    "# implot(four_channel_img[:4, :, :, :], None, None, 20, 20, channels = 4)"
   ]
  },
  {
   "cell_type": "code",
   "execution_count": 15,
   "metadata": {},
   "outputs": [
    {
     "name": "stderr",
     "output_type": "stream",
     "text": [
      "/home/owhitley/anaconda3/envs/pytorch36/lib/python3.6/site-packages/seaborn/distributions.py:2557: FutureWarning: `distplot` is a deprecated function and will be removed in a future version. Please adapt your code to use either `displot` (a figure-level function with similar flexibility) or `histplot` (an axes-level function for histograms).\n",
      "  warnings.warn(msg, FutureWarning)\n",
      "/home/owhitley/anaconda3/envs/pytorch36/lib/python3.6/site-packages/seaborn/distributions.py:306: UserWarning: Dataset has 0 variance; skipping density estimate.\n",
      "  warnings.warn(msg, UserWarning)\n"
     ]
    },
    {
     "data": {
      "text/plain": [
       "<AxesSubplot:ylabel='Density'>"
      ]
     },
     "execution_count": 15,
     "metadata": {},
     "output_type": "execute_result"
    },
    {
     "data": {
      "image/png": "[encoded data removed]",
      "text/plain": [
       "<Figure size 432x288 with 1 Axes>"
      ]
     },
     "metadata": {
      "needs_background": "light"
     },
     "output_type": "display_data"
    }
   ],
   "source": [
    "sns.distplot(four_channel_img[:, :, :, 3].flatten())"
   ]
  },
  {
   "cell_type": "code",
   "execution_count": 16,
   "metadata": {},
   "outputs": [
    {
     "name": "stdout",
     "output_type": "stream",
     "text": [
      "True\n",
      "True\n"
     ]
    }
   ],
   "source": [
    "# I suspect that the first 3 channels are all identical. This turns out to be true\n",
    "print(np.all(np.equal(four_channel_img[:, :, :, 0].flatten(), four_channel_img[:, :, :, 1].flatten())))\n",
    "print(np.all(np.equal(four_channel_img[:, :, :, 1].flatten(), four_channel_img[:, :, :, 2].flatten())))"
   ]
  },
  {
   "cell_type": "markdown",
   "metadata": {},
   "source": [
    "It appears that for some subset of the images, the image got copied 3 times, potentially into RGBA format."
   ]
  },
  {
   "cell_type": "markdown",
   "metadata": {},
   "source": [
    "## Check mean intensities of first 5 images we looked at"
   ]
  },
  {
   "cell_type": "code",
   "execution_count": 17,
   "metadata": {},
   "outputs": [
    {
     "name": "stderr",
     "output_type": "stream",
     "text": [
      "/home/owhitley/anaconda3/envs/pytorch36/lib/python3.6/site-packages/seaborn/distributions.py:2557: FutureWarning: `distplot` is a deprecated function and will be removed in a future version. Please adapt your code to use either `displot` (a figure-level function with similar flexibility) or `histplot` (an axes-level function for histograms).\n",
      "  warnings.warn(msg, FutureWarning)\n"
     ]
    },
    {
     "data": {
      "text/plain": [
       "<AxesSubplot:ylabel='Density'>"
      ]
     },
     "execution_count": 17,
     "metadata": {},
     "output_type": "execute_result"
    },
    {
     "data": {
      "image/png": "[encoded data removed]",
      "text/plain": [
       "<Figure size 432x288 with 1 Axes>"
      ]
     },
     "metadata": {
      "needs_background": "light"
     },
     "output_type": "display_data"
    }
   ],
   "source": [
    "# check means of images\n",
    "img_means = []\n",
    "for i in range(len(img_list)):\n",
    "    img_means.append(np.mean(img_list[i]))\n",
    "\n",
    "sns.distplot(img_means)"
   ]
  },
  {
   "cell_type": "code",
   "execution_count": 18,
   "metadata": {},
   "outputs": [
    {
     "data": {
      "text/plain": [
       "123.49591274261475"
      ]
     },
     "execution_count": 18,
     "metadata": {},
     "output_type": "execute_result"
    }
   ],
   "source": [
    "# mean intensity\n",
    "mean_intensity = np.mean(np.array(img_list))\n",
    "mean_intensity"
   ]
  },
  {
   "cell_type": "code",
   "execution_count": 19,
   "metadata": {},
   "outputs": [
    {
     "data": {
      "text/plain": [
       "58.199618203287606"
      ]
     },
     "execution_count": 19,
     "metadata": {},
     "output_type": "execute_result"
    }
   ],
   "source": [
    "# std deviation\n",
    "std_intensity = np.std(np.array(img_list))\n",
    "std_intensity"
   ]
  },
  {
   "cell_type": "markdown",
   "metadata": {},
   "source": [
    "# Define Classes/Methods for Preprocessing and Indexing Data"
   ]
  },
  {
   "cell_type": "code",
   "execution_count": 20,
   "metadata": {},
   "outputs": [],
   "source": [
    "# Classes with callable methods to be used for transforms\n",
    "class SampleTransform(object):\n",
    "    \"\"\"\n",
    "    Generic Class for doing a transform of image data in a sample dict. Note that this could be extended\n",
    "    to include transformations on tabular data as well, but for now we're only worried about image data\n",
    "    \"\"\"\n",
    "    def __init__(self, img_transform):\n",
    "        # img_transform must be subclass of nn.Module\n",
    "        self.img_transform = img_transform\n",
    "        \n",
    "    def __transform__(self, sample):\n",
    "        raise NotImplementedError('method __transform__ not defined for this class.')\n",
    "    \n",
    "    def __call__(self, sample):\n",
    "        image, table_data = sample['image'], sample['table_data']\n",
    "        transf_image = self.__transform__(image)\n",
    "        sample_return = {'image': transf_image, 'table_data': table_data}\n",
    "        return sample_return\n",
    "        \n",
    "class ToTensor(SampleTransform):\n",
    "    \"\"\"\n",
    "    Turns image into a pytorch tensor. See docs for\n",
    "    torchvision.transforms.ToTensor() for more details\n",
    "    \"\"\"\n",
    "    def __init__(self):\n",
    "        super().__init__(img_transform = transforms.ToTensor())\n",
    "        \n",
    "    def __transform__(self, image):\n",
    "        transf_image = self.img_transform.__call__(image)\n",
    "        return transf_image\n",
    "    \n",
    "class TorchMean(SampleTransform):\n",
    "    \"\"\"\n",
    "    \"\"\"\n",
    "    \n",
    "class Normalize(SampleTransform):\n",
    "    \"\"\"\n",
    "    Normalize an image to specified mean and std deviation\n",
    "    \"\"\"\n",
    "    def __init__(self, mean, std, inplace = False):\n",
    "        super().__init__(img_transform = transforms.Normalize(mean, std, inplace))\n",
    "        \n",
    "    def __transform__(self, image):\n",
    "        transf_image = self.img_transform.__call__(image)\n",
    "        return transf_image\n",
    "\n",
    "class RandomHorizontalFlip(SampleTransform):\n",
    "    \"\"\"\n",
    "    Performs random horizontal flip of image with p = 0.5 for the flip\n",
    "    See docs for torchvision.transforms.RandomHorizontalFlip for more details\n",
    "    \"\"\"\n",
    "    def __init__(self):\n",
    "        super().__init__(img_transform = transforms.RandomHorizontalFlip())\n",
    "        \n",
    "    def __transform__(self, image):\n",
    "        transf_image = self.img_transform.__call__(image)\n",
    "        return transf_image"
   ]
  },
  {
   "cell_type": "code",
   "execution_count": 21,
   "metadata": {},
   "outputs": [],
   "source": [
    "basic_transform = transforms.Compose([\n",
    "        ToTensor(),\n",
    "        Normalize(mean_intensity, std_intensity),\n",
    "        RandomHorizontalFlip()\n",
    "    ])"
   ]
  },
  {
   "cell_type": "code",
   "execution_count": 22,
   "metadata": {},
   "outputs": [],
   "source": [
    "class XRayDataset(Dataset):\n",
    "    \"\"\"\n",
    "    Xray images dataset. Inspired in part by: https://pytorch.org/tutorials/beginner/data_loading_tutorial.html\n",
    "    Used to manage indexing of tabular and image data, as well as do limited transformations of tabular data\n",
    "    \"\"\"\n",
    "    \n",
    "    def __init__(self, table_data, root_dir, transform=None):\n",
    "        \"\"\"\n",
    "        Args:\n",
    "            csv (string): Path to the csv file with tabular data corresponding to images, or pandas dataframe\n",
    "            root_dir (string): Directory with all the images. Assumes all images in 1 directory, (no subdirectories)\n",
    "            transform (callable, optional): Optional transform to be applied\n",
    "                on a sample.\n",
    "        Notes:\n",
    "            csv file is read, and then listed images checked against those actually present in root_dir\n",
    "            only images in the intersection of images listed in csv file and images present in root_dir\n",
    "            will be used in the XRayDataSet object. Also, transforms could range from initial preprocessing\n",
    "            for images to be used in training autoencoder to running images through preprocessing and \n",
    "            \n",
    "        \"\"\"\n",
    "        \n",
    "        if isinstance(table_data, str):\n",
    "            table_data = pd.read_csv(table_data)\n",
    "        else:\n",
    "            try:\n",
    "                assert isinstance(table_data, pd.DataFrame)\n",
    "            except:\n",
    "                raise TypeError('table_data must be valid filepath or pandas DataFrame')\n",
    "                \n",
    "        self.table_data = table_data\n",
    "        self.root_dir = root_dir\n",
    "        \n",
    "        # subset tabular data only for images in intersection of tabular data and images present in root_dir\n",
    "        tab_images = self.table_data['Image Index'].to_numpy().astype('str')\n",
    "        dir_images = os.listdir(root_dir)\n",
    "        common_images = np.intersect1d(tab_images, dir_images)\n",
    "        msg = \"{0} images common to root_dir ({1} images) and table data ({2} images)\"\n",
    "        print(msg.format(len(common_images), len(dir_images), len(tab_images)))\n",
    "        \n",
    "        if len(common_images) < 1:\n",
    "            raise ValueError('0 images common between root_dir and table data')\n",
    "        \n",
    "        idx_keep = np.in1d(tab_images, common_images)\n",
    "        self.table_data = self.table_data.iloc[idx_keep, :]\n",
    "        \n",
    "        self.transform = transform\n",
    "        \n",
    "    def __len__(self):\n",
    "        return(len(self.table_data))\n",
    "    \n",
    "    def __getitem__(self, idx):\n",
    "        if torch.is_tensor(idx):\n",
    "            idx = idx.tolist()\n",
    "\n",
    "        img_name = os.path.join(self.root_dir,\n",
    "                                self.table_data.iloc[idx, 0])\n",
    "        image = io.imread(img_name)\n",
    "        if len(image.shape) > 2:\n",
    "            # assuming that first image in image series identical to 2 others in series,\n",
    "            # and last (4th) is blank as was seen in earlier exploration of 'multi-channel'\n",
    "            # images.\n",
    "            image = image[:, :, 0]\n",
    "        # gets 1 row of dataframe if idx of len 1 and returns it as a dict\n",
    "        table_data = self.table_data.iloc[np.arange(0,1), :].to_dict(orient = 'records')[0]['Image Index']\n",
    "        \n",
    "        sample = {'image': image, 'table_data': table_data}\n",
    "\n",
    "        if self.transform:\n",
    "            sample = self.transform(sample)\n",
    "\n",
    "        return sample\n",
    "        \n",
    "    def get_label_names(self, col):\n",
    "        \"\"\"\n",
    "        get unique label names. assume multilabel entries are separated\n",
    "        by a pipe character\n",
    "        \"\"\"\n",
    "        # get unique label names\n",
    "        col_contents = self.table_data[col]\n",
    "        label_names = [re.split('\\|', x) for x in col_contents.to_numpy().astype('str')]\n",
    "        label_names = np.unique(np.array([x for y in label_names for x in y]))\n",
    "        return label_names\n",
    "        \n",
    "    def one_hot(self, col, label):\n",
    "        \"\"\"\n",
    "        One-hot encode a particular label in categorical data. \n",
    "        \"\"\"\n",
    "        r = re.compile('(\\|)*' + label + '(\\|)*')\n",
    "        col_content = self.table_data[col].to_numpy().astype('str')\n",
    "        vmatch = np.vectorize(lambda x:bool(r.search(x)))\n",
    "        sel = vmatch(col_content).astype('int32')\n",
    "        new_col = label\n",
    "        if new_col in self.table_data.keys():\n",
    "            warn(new_col + ' is already present in dataframe, replacing')\n",
    "        self.table_data[new_col] = sel\n",
    "        \n",
    "    def one_hot_all_labels(self, col):\n",
    "        \"\"\"\n",
    "        One hot encode all unique labels in a column. Assume that multilabel entries are\n",
    "        separated by a pipe | character\n",
    "        \"\"\"\n",
    "        all_labels = self.get_label_names(col)\n",
    "        for label in all_labels:\n",
    "            self.one_hot(col, label)\n",
    "            \n",
    "    def get_multi_label(self, col):\n",
    "        \"\"\"\n",
    "        \"\"\"\n",
    "        r = re.compile('\\|')\n",
    "        col_content = self.table_data[col].to_numpy().astype('str')\n",
    "        vmatch = np.vectorize(lambda x:bool(r.search(x)))\n",
    "        sel = vmatch(col_content).astype('int32')\n",
    "        new_col = col + '_IsMultiLabel'\n",
    "        if new_col in self.table_data.keys():\n",
    "            warn(new_col + ' is already present in dataframe, replacing')\n",
    "        self.table_data[new_col] = sel\n",
    "        \n",
    "        \n",
    "    def train_test_split(self, stratify = None, train_frac = 0.8):\n",
    "        \"\"\"\n",
    "        Args:\n",
    "            stratify = str\n",
    "        return: a dict of 2 XRayDataset class objects referring to the same image directory\n",
    "        \"\"\"\n",
    "            \n",
    "        if isinstance(stratify, str):\n",
    "            stratify = self.table_data[stratify].to_numpy() \n",
    "        \n",
    "        \n",
    "        # get split indices\n",
    "        n_total = self.__len__()\n",
    "        all_inds = np.arange(n_total)\n",
    "        train_inds, test_inds = train_test_split(all_inds, train_size = train_frac, stratify = stratify)\n",
    "        train_table = self.table_data.iloc[train_inds, :]\n",
    "        test_table = self.table_data.iloc[test_inds, :]\n",
    "        n_train = len(train_inds)\n",
    "        n_test = len(test_inds)\n",
    "        print(\"No. Train:{} No. Test:{}\".format(n_train, n_test))\n",
    "        # make and return datasets\n",
    "        TrainDS = XRayDataset(train_table, self.root_dir, self.transform)\n",
    "        TestDS = XRayDataset(test_table, self.root_dir, self.transform)\n",
    "        dict_return = {'train': TrainDS, 'test': TestDS}\n",
    "        return dict_return\n",
    "        \n",
    "        "
   ]
  },
  {
   "cell_type": "code",
   "execution_count": 23,
   "metadata": {},
   "outputs": [
    {
     "name": "stdout",
     "output_type": "stream",
     "text": [
      "500 images common to root_dir (24999 images) and table data (500 images)\n"
     ]
    }
   ],
   "source": [
    "# For now take first 5000 images from table data\n",
    "table_data = pd.read_csv(os.path.join(data_dir, 'Data_Entry_2017_v2020.csv'))\n",
    "table_data = table_data.iloc[0:500, :]\n",
    "VAE_DS = XRayDataset(table_data = table_data, \n",
    "                     root_dir = image_dir, transform = basic_transform)"
   ]
  },
  {
   "cell_type": "code",
   "execution_count": 24,
   "metadata": {},
   "outputs": [],
   "source": [
    "# # check that data transform works\n",
    "# proc_img_list = [VAE_DS[i]['image'].numpy()[0, :, :] for i in range(5)]"
   ]
  },
  {
   "cell_type": "code",
   "execution_count": 25,
   "metadata": {},
   "outputs": [],
   "source": [
    "# implot(proc_img_list, 1, 5, 18, 3)"
   ]
  },
  {
   "cell_type": "code",
   "execution_count": 26,
   "metadata": {},
   "outputs": [],
   "source": [
    "# sns.distplot(np.array(proc_img_list[0]).flatten())"
   ]
  },
  {
   "cell_type": "code",
   "execution_count": 27,
   "metadata": {},
   "outputs": [
    {
     "name": "stdout",
     "output_type": "stream",
     "text": [
      "<class 'dict'>\n"
     ]
    }
   ],
   "source": [
    "print(type(VAE_DS[0]))"
   ]
  },
  {
   "cell_type": "markdown",
   "metadata": {},
   "source": [
    "# Define Model\n",
    "\n",
    "For now we start out with a relatively simple architecture for encoder + decoder. If we really want to get fancy can consider resnet or inception layers, but for now let's get a simple first pass done. Code in large part borrowed from https://github.com/smartgeometry-ucl/dl4g/blob/master/variational_autoencoder.ipynb.\n",
    "\n",
    "For the most part it appears that pixel intensity follows a distribution of a mixture of gaussians, so for now it might be best to use gaussian $log p(x|z) $ instead of bernoulli equivalent (i.e. binary cross entropy)"
   ]
  },
  {
   "cell_type": "code",
   "execution_count": 28,
   "metadata": {},
   "outputs": [],
   "source": [
    "def conv_output_size(W1, S, F, P):\n",
    "    \"\"\"\n",
    "    W1 = input width\n",
    "    S = Stride\n",
    "    F = Filter (kernel) size\n",
    "    P = padding\n",
    "    returns: W2, or output width\n",
    "    \"\"\"\n",
    "    W2 = np.floor((W1 + 2*P - F)/S) + 1\n",
    "    return W2\n",
    "    \n",
    "class Encoder(nn.Module):\n",
    "    \"\"\"\n",
    "    Encoder function. Assumes square image input with 1 channel.\n",
    "    \"\"\"\n",
    "    def __init__(self, c, input_size = 1024, latent_dims = 20, S = 2, F = 4, P = 1):\n",
    "        super(Encoder, self).__init__()\n",
    "        # note: if we want to make this prettier later we can make depth a controllable parameter\n",
    "        # and loop over depth indices to produce layers or call layers when running the forward method\n",
    "        self.conv1 = nn.Conv2d(in_channels=1, out_channels=c, kernel_size=F, stride=S, padding=P) \n",
    "        conv1_out_size = conv_output_size(input_size, S, F, P)\n",
    "        self.conv2 = nn.Conv2d(in_channels=c, out_channels=c*2, kernel_size=F, stride=S, padding=P)\n",
    "        conv2_out_size = conv_output_size(conv1_out_size, S, F, P)\n",
    "        self.conv3 = nn.Conv2d(in_channels=c*2, out_channels=c*4, kernel_size=F, stride=S, padding=P)\n",
    "        conv3_out_size = conv_output_size(conv2_out_size, S, F, P)\n",
    "        linear_input_size = (int(c*4*conv3_out_size*conv3_out_size))\n",
    "        self.fc_mu = nn.Linear(in_features=linear_input_size, out_features=(int(latent_dims)))\n",
    "        self.fc_logvar = nn.Linear(in_features=linear_input_size, out_features=(int(latent_dims)))\n",
    "            \n",
    "    def forward(self, x):\n",
    "        x = F.softplus(self.conv1(x))\n",
    "        x = F.softplus(self.conv2(x))\n",
    "        x = F.softplus(self.conv3(x))\n",
    "        x = x.view(x.size((int(0))), -1) # flatten batch of multi-channel feature maps to a batch of feature vectors\n",
    "        x_mu = self.fc_mu(x)\n",
    "        x_logvar = self.fc_logvar(x)\n",
    "        return x_mu, x_logvar \n",
    "\n",
    "    \n",
    "class Decoder(nn.Module):\n",
    "    def __init__(self, c, input_size = 1024, latent_dims = 20, S = 2, F = 4, P = 1):\n",
    "        super(Decoder, self).__init__()\n",
    "        # the below four lines are ugly but quick. In future make this class able to dynamically\n",
    "        # allocate layers, but first let's get a simple first pass\n",
    "        conv1_out_size = conv_output_size(input_size, S, F, P)\n",
    "        conv2_out_size = conv_output_size(conv1_out_size, S, F, P)\n",
    "        conv3_out_size = conv_output_size(conv2_out_size, S, F, P)\n",
    "        self.conv3_out_size = int(conv3_out_size)\n",
    "        self.channels = c\n",
    "        self.fc1 = nn.Linear(in_features=(int(latent_dims)), out_features=(int(c*4*conv3_out_size*conv3_out_size)))\n",
    "        self.conv3 = nn.ConvTranspose2d(in_channels=c*4, out_channels=c*2, kernel_size=F, stride=S, padding=P)\n",
    "        self.conv2 = nn.ConvTranspose2d(in_channels=c*2, out_channels=c, kernel_size=F, stride=S, padding=P)\n",
    "        self.conv1 = nn.ConvTranspose2d(in_channels=c, out_channels=1, kernel_size=F, stride=S, padding=P)\n",
    "            \n",
    "    def forward(self, x):\n",
    "        c = self.channels\n",
    "        conv3_out_size = self.conv3_out_size\n",
    "        x = self.fc1(x)\n",
    "        x = x.view((x.shape[0], c*4, conv3_out_size, conv3_out_size)) # unflatten batch of feature vectors to a batch of multi-channel feature maps\n",
    "        x = F.softplus(self.conv3(x))\n",
    "        x = F.softplus(self.conv2(x))\n",
    "        x = self.conv1(x)\n",
    "        return x\n",
    "    \n",
    "    \n",
    "class VariationalAutoencoder(nn.Module):\n",
    "    def __init__(self, input_size = 1024, c = 4, latent_dims = 20, S = 2, F = 4, P = 1, training = True):\n",
    "        super(VariationalAutoencoder, self).__init__()\n",
    "        self.encoder = Encoder(input_size = input_size, c = c, latent_dims = latent_dims, S = S, F = F, P = P)\n",
    "        self.decoder = Decoder(input_size = input_size, c = c, latent_dims = latent_dims, S = S, F = F, P = P)\n",
    "        self.training = training\n",
    "        \n",
    "    def set_train_status(self, training):\n",
    "        self.training = training\n",
    "        \n",
    "    def forward(self, x):\n",
    "        latent_mu, latent_logvar = self.encoder(x)\n",
    "        z = self.latent_sample(latent_mu, latent_logvar)\n",
    "        x_recon = self.decoder(z)\n",
    "        return x_recon, z, latent_mu, latent_logvar\n",
    "    \n",
    "    def latent_sample(self, mu, logvar):\n",
    "        if self.training:\n",
    "            # the reparameterization trick\n",
    "            # std deviation = sqrt(var) or exp(1/2 logvar) \n",
    "            std = logvar.mul(0.5).exp_()\n",
    "            eps = torch.empty_like(std).normal_()\n",
    "            z = eps.mul(std).add_(mu) \n",
    "        else:\n",
    "            # It appears that when not training, you want to return the 'expected' position\n",
    "            z = mu\n",
    "            \n",
    "        return z\n",
    "\n",
    "\n",
    "    \n",
    "def vae_loss(recon_x, x, z, mu, logvar):\n",
    "    \"\"\"\n",
    "    recon_x = reconstructed images of x\n",
    "    x = original set of images\n",
    "    mu = mean\n",
    "    logvar = log-variance\n",
    "    \"\"\"\n",
    "    std_pixels = torch.std(x)\n",
    "    # calculate log p(x|z) for all pixels. calculated over all pixels over all images\n",
    "    # normal_dist = torch.distributions.normal.Normal(0, 1)\n",
    "    # std_norm_xz = (recon_x - x)/std_pixels\n",
    "    normal_xz = torch.distributions.normal.Normal(recon_x, std_pixels)\n",
    "    log_pxz = torch.sum(normal_xz.log_prob(x))\n",
    "    # calculate log p(z). calculated over all images over all latent dims\n",
    "    normal_z = torch.distributions.normal.Normal(0., 1.)\n",
    "    log_pz = torch.sum(normal_z.log_prob(z))\n",
    "    # calculate log q(z). calculated over all images over all latent dims\n",
    "    #std_norm_zx = (z-mu)/(logvar.exp())\n",
    "    normal_zx = torch.distributions.normal.Normal(mu, torch.exp(logvar))\n",
    "    log_qz = torch.sum(normal_zx.log_prob(z))\n",
    "    \n",
    "    total_samples = np.float(recon_x.shape[0])\n",
    "    # using this sum is same as performping log p(x|z) + log p(z) - log q(z)\n",
    "    # for all images, and then summing over all images.\n",
    "    summed_elbo = log_pxz + log_pz - log_qz\n",
    "    # ELBO = Eq[log p(x|z) + log p(z) - log q(z)]\n",
    "    elbo = summed_elbo/total_samples\n",
    "    # we want to maximize elbo so we set the -elbo as the loss\n",
    "    loss = -elbo\n",
    "    return loss, elbo, log_pxz\n",
    "        \n"
   ]
  },
  {
   "cell_type": "code",
   "execution_count": 29,
   "metadata": {},
   "outputs": [
    {
     "data": {
      "text/plain": [
       "512.0"
      ]
     },
     "execution_count": 29,
     "metadata": {},
     "output_type": "execute_result"
    }
   ],
   "source": [
    "# double check expected output size for convolution 3 and input size for encoder linear layer\n",
    "conv_output_size(1024, 2, 4, 1)"
   ]
  },
  {
   "cell_type": "code",
   "execution_count": 30,
   "metadata": {},
   "outputs": [
    {
     "data": {
      "text/plain": [
       "256.0"
      ]
     },
     "execution_count": 30,
     "metadata": {},
     "output_type": "execute_result"
    }
   ],
   "source": [
    "conv_output_size(512, 2, 4, 1)"
   ]
  },
  {
   "cell_type": "code",
   "execution_count": 31,
   "metadata": {},
   "outputs": [
    {
     "data": {
      "text/plain": [
       "128.0"
      ]
     },
     "execution_count": 31,
     "metadata": {},
     "output_type": "execute_result"
    }
   ],
   "source": [
    "conv_output_size(256, 2, 4, 1)\n"
   ]
  },
  {
   "cell_type": "code",
   "execution_count": 32,
   "metadata": {},
   "outputs": [
    {
     "data": {
      "text/plain": [
       "262144"
      ]
     },
     "execution_count": 32,
     "metadata": {},
     "output_type": "execute_result"
    }
   ],
   "source": [
    "128*128*4*4"
   ]
  },
  {
   "cell_type": "markdown",
   "metadata": {},
   "source": [
    "# Define Classes/Functions to Be Used for Training and Evaluation"
   ]
  },
  {
   "cell_type": "code",
   "execution_count": 33,
   "metadata": {},
   "outputs": [],
   "source": [
    "class Trainer(object):\n",
    "    \n",
    "    def __init__(self, XRayDS, stratify = None, train_frac = 0.8):\n",
    "        # below lines commonted out as I can't figure out whey isinstance(XRayDS, XRayDataset) fails\n",
    "#         try:\n",
    "#             assert isinstance(XRayDS, XRayDataset)\n",
    "#         except:\n",
    "#             raise TypeError('XRayDS must be instance of XRayDataset')\n",
    "        self.SplitData = XRayDS.train_test_split(stratify, train_frac)\n",
    "        self.VAE = VariationalAutoencoder()\n",
    "        self.optimizer = torch.optim.Adam(self.VAE.parameters(), lr=1e-5, weight_decay=1e-6)\n",
    "        self.running_stats = None\n",
    "    \n",
    "    def train(self, num_epochs = 2, batch_size = 100):\n",
    "        # DataLoaders go through all complete batches\n",
    "        train_loader = DataLoader(self.SplitData['train'], batch_size=batch_size,\n",
    "                                  shuffle=True, num_workers=0, drop_last = True)\n",
    "        test_loader = DataLoader(self.SplitData['test'], batch_size=batch_size,\n",
    "                                 shuffle=True, num_workers=0, drop_last = True)\n",
    "        loaders = {'train': train_loader, 'test': test_loader}\n",
    "        running_stats = {'train': {'avg_elbo': np.array([]), 'avg_log_pxz': np.array([])},\n",
    "                        'test': {'avg_elbo': np.array([]), 'avg_log_pxz': np.array([])}}\n",
    "        for epoch in range(num_epochs + 1):\n",
    "            print('===========================================')\n",
    "            avg_loss = {'train': None, 'test': None}\n",
    "            now = datetime.datetime.now()\n",
    "            print(now.strftime(\"%Y-%m-%d %H:%M:%S\"))\n",
    "            if epoch == num_epochs:\n",
    "                print('Final Results')\n",
    "                do_backprop = False\n",
    "            else:\n",
    "                print('Epoch {} / {}'.format(epoch+1, num_epochs))\n",
    "                do_backprop = True\n",
    "                \n",
    "            for stage in ['train', 'test']:\n",
    "                print('__' + stage + '__')\n",
    "                now = datetime.datetime.now()\n",
    "                print('Stage Beginning')\n",
    "                print(now.strftime(\"%Y-%m-%d %H:%M:%S\"))\n",
    "                if stage == 'train':\n",
    "                    self.VAE.set_train_status(True)\n",
    "                else:\n",
    "                    self.VAE.set_train_status(False)\n",
    "                \n",
    "                DS = self.SplitData[stage]\n",
    "                total_elbo = 0.\n",
    "                total_log_pxz = 0.\n",
    "                m = 0\n",
    "                for sample_batched in loaders[stage]:\n",
    "                    x = sample_batched['image']\n",
    "                    recon_x, z, mu, logvar = self.VAE.forward(x)\n",
    "                    loss, elbo, log_pxz = vae_loss(recon_x, x, z, mu, logvar)\n",
    "                    total_elbo += elbo\n",
    "                    total_log_pxz += log_pxz\n",
    "                    if do_backprop:\n",
    "                        if stage == 'train':\n",
    "                            self.optimizer.zero_grad()\n",
    "                            loss.backward()\n",
    "                            self.optimizer.step()\n",
    "                        \n",
    "                    m += 1\n",
    "                # average ELBO across batches + log p(x|z)\n",
    "                # since log p(x|z) is summed across all pixels across all samples,\n",
    "                # the sum across all batches is the joint probability across all batches.\n",
    "                # dividing total_log_pxz by the number of batches gets a log geometric mean\n",
    "                # for p(x|z) across batches\n",
    "                avg_elbo = total_elbo/np.float(m)\n",
    "                avg_log_pxz = total_log_pxz/np.float(m)\n",
    "                \n",
    "                now = datetime.datetime.now()\n",
    "                print('Stage Finished')\n",
    "                print(now.strftime(\"%Y-%m-%d %H:%M:%S\"))\n",
    "                print('ELBO (avg): {:.2e} log p(x|z): (avg) {:.2e} '.format(avg_elbo, avg_log_pxz))\n",
    "                running_stats[stage]['avg_elbo'] = np.append(running_stats[stage]['avg_elbo'], avg_elbo.detach().numpy())\n",
    "                running_stats[stage]['avg_log_pxz'] = np.append(running_stats[stage]['avg_log_pxz'], avg_log_pxz.detach().numpy())\n",
    "                \n",
    "        self.running_stats = running_stats\n",
    "        print('===========================================')\n",
    "        print('Finished!')\n",
    "        now = datetime.datetime.now()\n",
    "        print(now.strftime(\"%Y-%m-%d %H:%M:%S\"))\n",
    "        \n",
    "                "
   ]
  },
  {
   "cell_type": "markdown",
   "metadata": {},
   "source": [
    "# Exploration of Tabular Data\n",
    "\n",
    "We explore the distribution of Finding Labels and other image related tabular data, such as patient age, patient ID, and patient gender"
   ]
  },
  {
   "cell_type": "code",
   "execution_count": 34,
   "metadata": {},
   "outputs": [
    {
     "data": {
      "text/plain": [
       "500"
      ]
     },
     "execution_count": 34,
     "metadata": {},
     "output_type": "execute_result"
    }
   ],
   "source": [
    "total_images = VAE_DS.__len__()\n",
    "total_images"
   ]
  },
  {
   "cell_type": "code",
   "execution_count": 35,
   "metadata": {},
   "outputs": [
    {
     "data": {
      "text/html": [
       "<div>\n",
       "<style scoped>\n",
       "    .dataframe tbody tr th:only-of-type {\n",
       "        vertical-align: middle;\n",
       "    }\n",
       "\n",
       "    .dataframe tbody tr th {\n",
       "        vertical-align: top;\n",
       "    }\n",
       "\n",
       "    .dataframe thead th {\n",
       "        text-align: right;\n",
       "    }\n",
       "</style>\n",
       "<table border=\"1\" class=\"dataframe\">\n",
       "  <thead>\n",
       "    <tr style=\"text-align: right;\">\n",
       "      <th></th>\n",
       "      <th>Image Index</th>\n",
       "      <th>Finding Labels</th>\n",
       "      <th>Follow-up #</th>\n",
       "      <th>Patient ID</th>\n",
       "      <th>Patient Age</th>\n",
       "      <th>Patient Gender</th>\n",
       "      <th>View Position</th>\n",
       "      <th>OriginalImage[Width</th>\n",
       "      <th>Height]</th>\n",
       "      <th>OriginalImagePixelSpacing[x</th>\n",
       "      <th>y]</th>\n",
       "    </tr>\n",
       "  </thead>\n",
       "  <tbody>\n",
       "    <tr>\n",
       "      <th>0</th>\n",
       "      <td>00000001_000.png</td>\n",
       "      <td>Cardiomegaly</td>\n",
       "      <td>0</td>\n",
       "      <td>1</td>\n",
       "      <td>57</td>\n",
       "      <td>M</td>\n",
       "      <td>PA</td>\n",
       "      <td>2682</td>\n",
       "      <td>2749</td>\n",
       "      <td>0.143</td>\n",
       "      <td>0.143</td>\n",
       "    </tr>\n",
       "    <tr>\n",
       "      <th>1</th>\n",
       "      <td>00000001_001.png</td>\n",
       "      <td>Cardiomegaly|Emphysema</td>\n",
       "      <td>1</td>\n",
       "      <td>1</td>\n",
       "      <td>58</td>\n",
       "      <td>M</td>\n",
       "      <td>PA</td>\n",
       "      <td>2894</td>\n",
       "      <td>2729</td>\n",
       "      <td>0.143</td>\n",
       "      <td>0.143</td>\n",
       "    </tr>\n",
       "    <tr>\n",
       "      <th>2</th>\n",
       "      <td>00000001_002.png</td>\n",
       "      <td>Cardiomegaly|Effusion</td>\n",
       "      <td>2</td>\n",
       "      <td>1</td>\n",
       "      <td>58</td>\n",
       "      <td>M</td>\n",
       "      <td>PA</td>\n",
       "      <td>2500</td>\n",
       "      <td>2048</td>\n",
       "      <td>0.168</td>\n",
       "      <td>0.168</td>\n",
       "    </tr>\n",
       "    <tr>\n",
       "      <th>3</th>\n",
       "      <td>00000002_000.png</td>\n",
       "      <td>No Finding</td>\n",
       "      <td>0</td>\n",
       "      <td>2</td>\n",
       "      <td>80</td>\n",
       "      <td>M</td>\n",
       "      <td>PA</td>\n",
       "      <td>2500</td>\n",
       "      <td>2048</td>\n",
       "      <td>0.171</td>\n",
       "      <td>0.171</td>\n",
       "    </tr>\n",
       "    <tr>\n",
       "      <th>4</th>\n",
       "      <td>00000003_001.png</td>\n",
       "      <td>Hernia</td>\n",
       "      <td>0</td>\n",
       "      <td>3</td>\n",
       "      <td>74</td>\n",
       "      <td>F</td>\n",
       "      <td>PA</td>\n",
       "      <td>2500</td>\n",
       "      <td>2048</td>\n",
       "      <td>0.168</td>\n",
       "      <td>0.168</td>\n",
       "    </tr>\n",
       "    <tr>\n",
       "      <th>...</th>\n",
       "      <td>...</td>\n",
       "      <td>...</td>\n",
       "      <td>...</td>\n",
       "      <td>...</td>\n",
       "      <td>...</td>\n",
       "      <td>...</td>\n",
       "      <td>...</td>\n",
       "      <td>...</td>\n",
       "      <td>...</td>\n",
       "      <td>...</td>\n",
       "      <td>...</td>\n",
       "    </tr>\n",
       "    <tr>\n",
       "      <th>495</th>\n",
       "      <td>00000118_001.png</td>\n",
       "      <td>Atelectasis|Emphysema</td>\n",
       "      <td>1</td>\n",
       "      <td>118</td>\n",
       "      <td>73</td>\n",
       "      <td>M</td>\n",
       "      <td>PA</td>\n",
       "      <td>2990</td>\n",
       "      <td>2991</td>\n",
       "      <td>0.143</td>\n",
       "      <td>0.143</td>\n",
       "    </tr>\n",
       "    <tr>\n",
       "      <th>496</th>\n",
       "      <td>00000118_002.png</td>\n",
       "      <td>Emphysema|Pneumothorax</td>\n",
       "      <td>2</td>\n",
       "      <td>118</td>\n",
       "      <td>73</td>\n",
       "      <td>M</td>\n",
       "      <td>PA</td>\n",
       "      <td>2992</td>\n",
       "      <td>2991</td>\n",
       "      <td>0.143</td>\n",
       "      <td>0.143</td>\n",
       "    </tr>\n",
       "    <tr>\n",
       "      <th>497</th>\n",
       "      <td>00000118_003.png</td>\n",
       "      <td>Atelectasis|Emphysema|Pneumothorax</td>\n",
       "      <td>3</td>\n",
       "      <td>118</td>\n",
       "      <td>73</td>\n",
       "      <td>M</td>\n",
       "      <td>PA</td>\n",
       "      <td>2992</td>\n",
       "      <td>2991</td>\n",
       "      <td>0.143</td>\n",
       "      <td>0.143</td>\n",
       "    </tr>\n",
       "    <tr>\n",
       "      <th>498</th>\n",
       "      <td>00000118_004.png</td>\n",
       "      <td>Emphysema|Pneumothorax</td>\n",
       "      <td>4</td>\n",
       "      <td>118</td>\n",
       "      <td>73</td>\n",
       "      <td>M</td>\n",
       "      <td>PA</td>\n",
       "      <td>2992</td>\n",
       "      <td>2991</td>\n",
       "      <td>0.143</td>\n",
       "      <td>0.143</td>\n",
       "    </tr>\n",
       "    <tr>\n",
       "      <th>499</th>\n",
       "      <td>00000118_005.png</td>\n",
       "      <td>Pneumothorax</td>\n",
       "      <td>5</td>\n",
       "      <td>118</td>\n",
       "      <td>73</td>\n",
       "      <td>M</td>\n",
       "      <td>PA</td>\n",
       "      <td>2992</td>\n",
       "      <td>2991</td>\n",
       "      <td>0.143</td>\n",
       "      <td>0.143</td>\n",
       "    </tr>\n",
       "  </tbody>\n",
       "</table>\n",
       "<p>500 rows × 11 columns</p>\n",
       "</div>"
      ],
      "text/plain": [
       "          Image Index                      Finding Labels  Follow-up #  \\\n",
       "0    00000001_000.png                        Cardiomegaly            0   \n",
       "1    00000001_001.png              Cardiomegaly|Emphysema            1   \n",
       "2    00000001_002.png               Cardiomegaly|Effusion            2   \n",
       "3    00000002_000.png                          No Finding            0   \n",
       "4    00000003_001.png                              Hernia            0   \n",
       "..                ...                                 ...          ...   \n",
       "495  00000118_001.png               Atelectasis|Emphysema            1   \n",
       "496  00000118_002.png              Emphysema|Pneumothorax            2   \n",
       "497  00000118_003.png  Atelectasis|Emphysema|Pneumothorax            3   \n",
       "498  00000118_004.png              Emphysema|Pneumothorax            4   \n",
       "499  00000118_005.png                        Pneumothorax            5   \n",
       "\n",
       "     Patient ID  Patient Age Patient Gender View Position  \\\n",
       "0             1           57              M            PA   \n",
       "1             1           58              M            PA   \n",
       "2             1           58              M            PA   \n",
       "3             2           80              M            PA   \n",
       "4             3           74              F            PA   \n",
       "..          ...          ...            ...           ...   \n",
       "495         118           73              M            PA   \n",
       "496         118           73              M            PA   \n",
       "497         118           73              M            PA   \n",
       "498         118           73              M            PA   \n",
       "499         118           73              M            PA   \n",
       "\n",
       "     OriginalImage[Width  Height]  OriginalImagePixelSpacing[x     y]  \n",
       "0                   2682     2749                        0.143  0.143  \n",
       "1                   2894     2729                        0.143  0.143  \n",
       "2                   2500     2048                        0.168  0.168  \n",
       "3                   2500     2048                        0.171  0.171  \n",
       "4                   2500     2048                        0.168  0.168  \n",
       "..                   ...      ...                          ...    ...  \n",
       "495                 2990     2991                        0.143  0.143  \n",
       "496                 2992     2991                        0.143  0.143  \n",
       "497                 2992     2991                        0.143  0.143  \n",
       "498                 2992     2991                        0.143  0.143  \n",
       "499                 2992     2991                        0.143  0.143  \n",
       "\n",
       "[500 rows x 11 columns]"
      ]
     },
     "execution_count": 35,
     "metadata": {},
     "output_type": "execute_result"
    }
   ],
   "source": [
    "VAE_DS.table_data"
   ]
  },
  {
   "cell_type": "code",
   "execution_count": 36,
   "metadata": {},
   "outputs": [],
   "source": [
    "VAE_DS.one_hot_all_labels('Finding Labels')"
   ]
  },
  {
   "cell_type": "code",
   "execution_count": 37,
   "metadata": {},
   "outputs": [
    {
     "data": {
      "text/html": [
       "<div>\n",
       "<style scoped>\n",
       "    .dataframe tbody tr th:only-of-type {\n",
       "        vertical-align: middle;\n",
       "    }\n",
       "\n",
       "    .dataframe tbody tr th {\n",
       "        vertical-align: top;\n",
       "    }\n",
       "\n",
       "    .dataframe thead th {\n",
       "        text-align: right;\n",
       "    }\n",
       "</style>\n",
       "<table border=\"1\" class=\"dataframe\">\n",
       "  <thead>\n",
       "    <tr style=\"text-align: right;\">\n",
       "      <th></th>\n",
       "      <th>Atelectasis</th>\n",
       "      <th>Cardiomegaly</th>\n",
       "      <th>Consolidation</th>\n",
       "      <th>Edema</th>\n",
       "      <th>Effusion</th>\n",
       "      <th>Emphysema</th>\n",
       "      <th>Fibrosis</th>\n",
       "      <th>Hernia</th>\n",
       "      <th>Infiltration</th>\n",
       "      <th>Mass</th>\n",
       "      <th>No Finding</th>\n",
       "      <th>Nodule</th>\n",
       "      <th>Pleural_Thickening</th>\n",
       "      <th>Pneumonia</th>\n",
       "      <th>Pneumothorax</th>\n",
       "    </tr>\n",
       "  </thead>\n",
       "  <tbody>\n",
       "    <tr>\n",
       "      <th>0</th>\n",
       "      <td>0</td>\n",
       "      <td>1</td>\n",
       "      <td>0</td>\n",
       "      <td>0</td>\n",
       "      <td>0</td>\n",
       "      <td>0</td>\n",
       "      <td>0</td>\n",
       "      <td>0</td>\n",
       "      <td>0</td>\n",
       "      <td>0</td>\n",
       "      <td>0</td>\n",
       "      <td>0</td>\n",
       "      <td>0</td>\n",
       "      <td>0</td>\n",
       "      <td>0</td>\n",
       "    </tr>\n",
       "    <tr>\n",
       "      <th>1</th>\n",
       "      <td>0</td>\n",
       "      <td>1</td>\n",
       "      <td>0</td>\n",
       "      <td>0</td>\n",
       "      <td>0</td>\n",
       "      <td>1</td>\n",
       "      <td>0</td>\n",
       "      <td>0</td>\n",
       "      <td>0</td>\n",
       "      <td>0</td>\n",
       "      <td>0</td>\n",
       "      <td>0</td>\n",
       "      <td>0</td>\n",
       "      <td>0</td>\n",
       "      <td>0</td>\n",
       "    </tr>\n",
       "    <tr>\n",
       "      <th>2</th>\n",
       "      <td>0</td>\n",
       "      <td>1</td>\n",
       "      <td>0</td>\n",
       "      <td>0</td>\n",
       "      <td>1</td>\n",
       "      <td>0</td>\n",
       "      <td>0</td>\n",
       "      <td>0</td>\n",
       "      <td>0</td>\n",
       "      <td>0</td>\n",
       "      <td>0</td>\n",
       "      <td>0</td>\n",
       "      <td>0</td>\n",
       "      <td>0</td>\n",
       "      <td>0</td>\n",
       "    </tr>\n",
       "    <tr>\n",
       "      <th>3</th>\n",
       "      <td>0</td>\n",
       "      <td>0</td>\n",
       "      <td>0</td>\n",
       "      <td>0</td>\n",
       "      <td>0</td>\n",
       "      <td>0</td>\n",
       "      <td>0</td>\n",
       "      <td>0</td>\n",
       "      <td>0</td>\n",
       "      <td>0</td>\n",
       "      <td>1</td>\n",
       "      <td>0</td>\n",
       "      <td>0</td>\n",
       "      <td>0</td>\n",
       "      <td>0</td>\n",
       "    </tr>\n",
       "    <tr>\n",
       "      <th>4</th>\n",
       "      <td>0</td>\n",
       "      <td>0</td>\n",
       "      <td>0</td>\n",
       "      <td>0</td>\n",
       "      <td>0</td>\n",
       "      <td>0</td>\n",
       "      <td>0</td>\n",
       "      <td>1</td>\n",
       "      <td>0</td>\n",
       "      <td>0</td>\n",
       "      <td>0</td>\n",
       "      <td>0</td>\n",
       "      <td>0</td>\n",
       "      <td>0</td>\n",
       "      <td>0</td>\n",
       "    </tr>\n",
       "    <tr>\n",
       "      <th>...</th>\n",
       "      <td>...</td>\n",
       "      <td>...</td>\n",
       "      <td>...</td>\n",
       "      <td>...</td>\n",
       "      <td>...</td>\n",
       "      <td>...</td>\n",
       "      <td>...</td>\n",
       "      <td>...</td>\n",
       "      <td>...</td>\n",
       "      <td>...</td>\n",
       "      <td>...</td>\n",
       "      <td>...</td>\n",
       "      <td>...</td>\n",
       "      <td>...</td>\n",
       "      <td>...</td>\n",
       "    </tr>\n",
       "    <tr>\n",
       "      <th>495</th>\n",
       "      <td>1</td>\n",
       "      <td>0</td>\n",
       "      <td>0</td>\n",
       "      <td>0</td>\n",
       "      <td>0</td>\n",
       "      <td>1</td>\n",
       "      <td>0</td>\n",
       "      <td>0</td>\n",
       "      <td>0</td>\n",
       "      <td>0</td>\n",
       "      <td>0</td>\n",
       "      <td>0</td>\n",
       "      <td>0</td>\n",
       "      <td>0</td>\n",
       "      <td>0</td>\n",
       "    </tr>\n",
       "    <tr>\n",
       "      <th>496</th>\n",
       "      <td>0</td>\n",
       "      <td>0</td>\n",
       "      <td>0</td>\n",
       "      <td>0</td>\n",
       "      <td>0</td>\n",
       "      <td>1</td>\n",
       "      <td>0</td>\n",
       "      <td>0</td>\n",
       "      <td>0</td>\n",
       "      <td>0</td>\n",
       "      <td>0</td>\n",
       "      <td>0</td>\n",
       "      <td>0</td>\n",
       "      <td>0</td>\n",
       "      <td>1</td>\n",
       "    </tr>\n",
       "    <tr>\n",
       "      <th>497</th>\n",
       "      <td>1</td>\n",
       "      <td>0</td>\n",
       "      <td>0</td>\n",
       "      <td>0</td>\n",
       "      <td>0</td>\n",
       "      <td>1</td>\n",
       "      <td>0</td>\n",
       "      <td>0</td>\n",
       "      <td>0</td>\n",
       "      <td>0</td>\n",
       "      <td>0</td>\n",
       "      <td>0</td>\n",
       "      <td>0</td>\n",
       "      <td>0</td>\n",
       "      <td>1</td>\n",
       "    </tr>\n",
       "    <tr>\n",
       "      <th>498</th>\n",
       "      <td>0</td>\n",
       "      <td>0</td>\n",
       "      <td>0</td>\n",
       "      <td>0</td>\n",
       "      <td>0</td>\n",
       "      <td>1</td>\n",
       "      <td>0</td>\n",
       "      <td>0</td>\n",
       "      <td>0</td>\n",
       "      <td>0</td>\n",
       "      <td>0</td>\n",
       "      <td>0</td>\n",
       "      <td>0</td>\n",
       "      <td>0</td>\n",
       "      <td>1</td>\n",
       "    </tr>\n",
       "    <tr>\n",
       "      <th>499</th>\n",
       "      <td>0</td>\n",
       "      <td>0</td>\n",
       "      <td>0</td>\n",
       "      <td>0</td>\n",
       "      <td>0</td>\n",
       "      <td>0</td>\n",
       "      <td>0</td>\n",
       "      <td>0</td>\n",
       "      <td>0</td>\n",
       "      <td>0</td>\n",
       "      <td>0</td>\n",
       "      <td>0</td>\n",
       "      <td>0</td>\n",
       "      <td>0</td>\n",
       "      <td>1</td>\n",
       "    </tr>\n",
       "  </tbody>\n",
       "</table>\n",
       "<p>500 rows × 15 columns</p>\n",
       "</div>"
      ],
      "text/plain": [
       "     Atelectasis  Cardiomegaly  Consolidation  Edema  Effusion  Emphysema  \\\n",
       "0              0             1              0      0         0          0   \n",
       "1              0             1              0      0         0          1   \n",
       "2              0             1              0      0         1          0   \n",
       "3              0             0              0      0         0          0   \n",
       "4              0             0              0      0         0          0   \n",
       "..           ...           ...            ...    ...       ...        ...   \n",
       "495            1             0              0      0         0          1   \n",
       "496            0             0              0      0         0          1   \n",
       "497            1             0              0      0         0          1   \n",
       "498            0             0              0      0         0          1   \n",
       "499            0             0              0      0         0          0   \n",
       "\n",
       "     Fibrosis  Hernia  Infiltration  Mass  No Finding  Nodule  \\\n",
       "0           0       0             0     0           0       0   \n",
       "1           0       0             0     0           0       0   \n",
       "2           0       0             0     0           0       0   \n",
       "3           0       0             0     0           1       0   \n",
       "4           0       1             0     0           0       0   \n",
       "..        ...     ...           ...   ...         ...     ...   \n",
       "495         0       0             0     0           0       0   \n",
       "496         0       0             0     0           0       0   \n",
       "497         0       0             0     0           0       0   \n",
       "498         0       0             0     0           0       0   \n",
       "499         0       0             0     0           0       0   \n",
       "\n",
       "     Pleural_Thickening  Pneumonia  Pneumothorax  \n",
       "0                     0          0             0  \n",
       "1                     0          0             0  \n",
       "2                     0          0             0  \n",
       "3                     0          0             0  \n",
       "4                     0          0             0  \n",
       "..                  ...        ...           ...  \n",
       "495                   0          0             0  \n",
       "496                   0          0             1  \n",
       "497                   0          0             1  \n",
       "498                   0          0             1  \n",
       "499                   0          0             1  \n",
       "\n",
       "[500 rows x 15 columns]"
      ]
     },
     "execution_count": 37,
     "metadata": {},
     "output_type": "execute_result"
    }
   ],
   "source": [
    "VAE_DS.table_data.loc[:, VAE_DS.get_label_names('Finding Labels')]"
   ]
  },
  {
   "cell_type": "code",
   "execution_count": 38,
   "metadata": {},
   "outputs": [],
   "source": [
    "VAE_DS.get_multi_label('Finding Labels')"
   ]
  },
  {
   "cell_type": "code",
   "execution_count": 39,
   "metadata": {},
   "outputs": [
    {
     "name": "stdout",
     "output_type": "stream",
     "text": [
      "Atelectasis: 57\n",
      "Cardiomegaly: 57\n",
      "Consolidation: 26\n",
      "Edema: 24\n",
      "Effusion: 119\n",
      "Emphysema: 33\n",
      "Fibrosis: 14\n",
      "Hernia: 9\n",
      "Infiltration: 100\n",
      "Mass: 33\n",
      "No Finding: 172\n",
      "Nodule: 20\n",
      "Pleural_Thickening: 15\n",
      "Pneumonia: 5\n",
      "Pneumothorax: 37\n",
      "Finding Labels_IsMultiLabel: 147\n"
     ]
    }
   ],
   "source": [
    "# check distribution of Finding Labels. \n",
    "label_names = np.concatenate((VAE_DS.get_label_names('Finding Labels'), np.array(['Finding Labels_IsMultiLabel'])))\n",
    "for lab in label_names:\n",
    "    print(\"{}: {}\".format(lab, np.sum(VAE_DS.table_data[lab].to_numpy())))"
   ]
  },
  {
   "cell_type": "code",
   "execution_count": 40,
   "metadata": {},
   "outputs": [
    {
     "data": {
      "text/plain": [
       "<seaborn.axisgrid.FacetGrid at 0x7fe75cedd0b8>"
      ]
     },
     "execution_count": 40,
     "metadata": {},
     "output_type": "execute_result"
    },
    {
     "data": {
      "image/png": "[encoded data removed]",
      "text/plain": [
       "<Figure size 360x360 with 1 Axes>"
      ]
     },
     "metadata": {
      "needs_background": "light"
     },
     "output_type": "display_data"
    }
   ],
   "source": [
    "# Check Distribution of Ages\n",
    "sns.displot(VAE_DS.table_data['Patient Age'], kde = True)"
   ]
  },
  {
   "cell_type": "code",
   "execution_count": 41,
   "metadata": {},
   "outputs": [
    {
     "data": {
      "text/plain": [
       "<seaborn.axisgrid.FacetGrid at 0x7fe77be9ff98>"
      ]
     },
     "execution_count": 41,
     "metadata": {},
     "output_type": "execute_result"
    },
    {
     "data": {
      "image/png": "[encoded data removed]",
      "text/plain": [
       "<Figure size 360x360 with 1 Axes>"
      ]
     },
     "metadata": {
      "needs_background": "light"
     },
     "output_type": "display_data"
    }
   ],
   "source": [
    "# check proportion of images accounted for by each patient.\n",
    "# It turns out that a small proportion of patients each account for 5 in every 1000 images or so.\n",
    "# Still, this isn't horrifyinglying biased towards any individual patient\n",
    "g = sns.displot(VAE_DS.table_data['Patient ID'].value_counts()/np.float(total_images), kde = True)\n",
    "g.set_axis_labels(\"Proportion of Images\", \"Count\")"
   ]
  },
  {
   "cell_type": "code",
   "execution_count": 42,
   "metadata": {},
   "outputs": [
    {
     "data": {
      "text/plain": [
       "F    266\n",
       "M    234\n",
       "Name: Patient Gender, dtype: int64"
      ]
     },
     "execution_count": 42,
     "metadata": {},
     "output_type": "execute_result"
    }
   ],
   "source": [
    "# Check Male/Female Distribution\n",
    "VAE_DS.table_data['Patient Gender'].value_counts()"
   ]
  },
  {
   "cell_type": "code",
   "execution_count": 43,
   "metadata": {},
   "outputs": [
    {
     "data": {
      "text/plain": [
       "<AxesSubplot:xlabel='Patient Gender', ylabel='Patient Age'>"
      ]
     },
     "execution_count": 43,
     "metadata": {},
     "output_type": "execute_result"
    },
    {
     "data": {
      "image/png": "[encoded data removed]",
      "text/plain": [
       "<Figure size 432x288 with 1 Axes>"
      ]
     },
     "metadata": {
      "needs_background": "light"
     },
     "output_type": "display_data"
    }
   ],
   "source": [
    "# Check Distribution of ages among genders\n",
    "sns.violinplot(data = VAE_DS.table_data, x = 'Patient Gender', y = 'Patient Age')"
   ]
  },
  {
   "cell_type": "markdown",
   "metadata": {},
   "source": [
    "# Train the Model!"
   ]
  },
  {
   "cell_type": "code",
   "execution_count": 44,
   "metadata": {},
   "outputs": [
    {
     "name": "stdout",
     "output_type": "stream",
     "text": [
      "No. Train:400 No. Test:100\n",
      "400 images common to root_dir (24999 images) and table data (400 images)\n",
      "100 images common to root_dir (24999 images) and table data (100 images)\n"
     ]
    },
    {
     "name": "stderr",
     "output_type": "stream",
     "text": [
      "/home/owhitley/anaconda3/envs/pytorch36/lib/python3.6/site-packages/sklearn/model_selection/_split.py:2069: FutureWarning: From version 0.21, test_size will always complement train_size unless both are specified.\n",
      "  FutureWarning)\n"
     ]
    }
   ],
   "source": [
    "VAE_Trainer = Trainer(XRayDS = VAE_DS)"
   ]
  },
  {
   "cell_type": "code",
   "execution_count": 45,
   "metadata": {},
   "outputs": [
    {
     "name": "stdout",
     "output_type": "stream",
     "text": [
      "===========================================\n",
      "2021-01-08 00:01:29\n",
      "Epoch 1 / 20\n",
      "__train__\n",
      "Stage Beginning\n",
      "2021-01-08 00:01:29\n",
      "Stage Finished\n",
      "2021-01-08 00:02:14\n",
      "ELBO (avg): -1.02e+11 log p(x|z): (avg) -1.02e+13 \n",
      "__test__\n",
      "Stage Beginning\n",
      "2021-01-08 00:02:14\n",
      "Stage Finished\n",
      "2021-01-08 00:02:20\n",
      "ELBO (avg): -1.05e+11 log p(x|z): (avg) -1.05e+13 \n",
      "===========================================\n",
      "2021-01-08 00:02:20\n",
      "Epoch 2 / 20\n",
      "__train__\n",
      "Stage Beginning\n",
      "2021-01-08 00:02:20\n",
      "Stage Finished\n",
      "2021-01-08 00:03:05\n",
      "ELBO (avg): -1.00e+11 log p(x|z): (avg) -1.00e+13 \n",
      "__test__\n",
      "Stage Beginning\n",
      "2021-01-08 00:03:05\n",
      "Stage Finished\n",
      "2021-01-08 00:03:11\n",
      "ELBO (avg): -1.04e+11 log p(x|z): (avg) -1.04e+13 \n",
      "===========================================\n",
      "2021-01-08 00:03:11\n",
      "Epoch 3 / 20\n",
      "__train__\n",
      "Stage Beginning\n",
      "2021-01-08 00:03:11\n",
      "Stage Finished\n",
      "2021-01-08 00:03:56\n",
      "ELBO (avg): -1.00e+11 log p(x|z): (avg) -1.00e+13 \n",
      "__test__\n",
      "Stage Beginning\n",
      "2021-01-08 00:03:56\n",
      "Stage Finished\n",
      "2021-01-08 00:04:02\n",
      "ELBO (avg): -1.04e+11 log p(x|z): (avg) -1.04e+13 \n",
      "===========================================\n",
      "2021-01-08 00:04:02\n",
      "Epoch 4 / 20\n",
      "__train__\n",
      "Stage Beginning\n",
      "2021-01-08 00:04:02\n",
      "Stage Finished\n",
      "2021-01-08 00:04:47\n",
      "ELBO (avg): -1.01e+11 log p(x|z): (avg) -1.01e+13 \n",
      "__test__\n",
      "Stage Beginning\n",
      "2021-01-08 00:04:47\n",
      "Stage Finished\n",
      "2021-01-08 00:04:52\n",
      "ELBO (avg): -1.03e+11 log p(x|z): (avg) -1.03e+13 \n",
      "===========================================\n",
      "2021-01-08 00:04:52\n",
      "Epoch 5 / 20\n",
      "__train__\n",
      "Stage Beginning\n",
      "2021-01-08 00:04:52\n",
      "Stage Finished\n",
      "2021-01-08 00:05:37\n",
      "ELBO (avg): -9.99e+10 log p(x|z): (avg) -9.99e+12 \n",
      "__test__\n",
      "Stage Beginning\n",
      "2021-01-08 00:05:37\n",
      "Stage Finished\n",
      "2021-01-08 00:05:43\n",
      "ELBO (avg): -1.03e+11 log p(x|z): (avg) -1.03e+13 \n",
      "===========================================\n",
      "2021-01-08 00:05:43\n",
      "Epoch 6 / 20\n",
      "__train__\n",
      "Stage Beginning\n",
      "2021-01-08 00:05:43\n",
      "Stage Finished\n",
      "2021-01-08 00:06:27\n",
      "ELBO (avg): -9.99e+10 log p(x|z): (avg) -9.99e+12 \n",
      "__test__\n",
      "Stage Beginning\n",
      "2021-01-08 00:06:27\n",
      "Stage Finished\n",
      "2021-01-08 00:06:33\n",
      "ELBO (avg): -1.03e+11 log p(x|z): (avg) -1.03e+13 \n",
      "===========================================\n",
      "2021-01-08 00:06:33\n",
      "Epoch 7 / 20\n",
      "__train__\n",
      "Stage Beginning\n",
      "2021-01-08 00:06:33\n",
      "Stage Finished\n",
      "2021-01-08 00:07:18\n",
      "ELBO (avg): -9.96e+10 log p(x|z): (avg) -9.96e+12 \n",
      "__test__\n",
      "Stage Beginning\n",
      "2021-01-08 00:07:18\n",
      "Stage Finished\n",
      "2021-01-08 00:07:24\n",
      "ELBO (avg): -1.03e+11 log p(x|z): (avg) -1.03e+13 \n",
      "===========================================\n",
      "2021-01-08 00:07:24\n",
      "Epoch 8 / 20\n",
      "__train__\n",
      "Stage Beginning\n",
      "2021-01-08 00:07:24\n",
      "Stage Finished\n",
      "2021-01-08 00:08:09\n",
      "ELBO (avg): -9.95e+10 log p(x|z): (avg) -9.95e+12 \n",
      "__test__\n",
      "Stage Beginning\n",
      "2021-01-08 00:08:09\n",
      "Stage Finished\n",
      "2021-01-08 00:08:14\n",
      "ELBO (avg): -1.03e+11 log p(x|z): (avg) -1.03e+13 \n",
      "===========================================\n",
      "2021-01-08 00:08:14\n",
      "Epoch 9 / 20\n",
      "__train__\n",
      "Stage Beginning\n",
      "2021-01-08 00:08:14\n",
      "Stage Finished\n",
      "2021-01-08 00:09:00\n",
      "ELBO (avg): -9.95e+10 log p(x|z): (avg) -9.95e+12 \n",
      "__test__\n",
      "Stage Beginning\n",
      "2021-01-08 00:09:00\n",
      "Stage Finished\n",
      "2021-01-08 00:09:05\n",
      "ELBO (avg): -1.03e+11 log p(x|z): (avg) -1.03e+13 \n",
      "===========================================\n",
      "2021-01-08 00:09:05\n",
      "Epoch 10 / 20\n",
      "__train__\n",
      "Stage Beginning\n",
      "2021-01-08 00:09:05\n",
      "Stage Finished\n",
      "2021-01-08 00:09:50\n",
      "ELBO (avg): -9.92e+10 log p(x|z): (avg) -9.92e+12 \n",
      "__test__\n",
      "Stage Beginning\n",
      "2021-01-08 00:09:50\n",
      "Stage Finished\n",
      "2021-01-08 00:09:56\n",
      "ELBO (avg): -1.03e+11 log p(x|z): (avg) -1.03e+13 \n",
      "===========================================\n",
      "2021-01-08 00:09:56\n",
      "Epoch 11 / 20\n",
      "__train__\n",
      "Stage Beginning\n",
      "2021-01-08 00:09:56\n",
      "Stage Finished\n",
      "2021-01-08 00:10:41\n",
      "ELBO (avg): -9.91e+10 log p(x|z): (avg) -9.91e+12 \n",
      "__test__\n",
      "Stage Beginning\n",
      "2021-01-08 00:10:41\n",
      "Stage Finished\n",
      "2021-01-08 00:10:47\n",
      "ELBO (avg): -1.02e+11 log p(x|z): (avg) -1.02e+13 \n",
      "===========================================\n",
      "2021-01-08 00:10:47\n",
      "Epoch 12 / 20\n",
      "__train__\n",
      "Stage Beginning\n",
      "2021-01-08 00:10:47\n",
      "Stage Finished\n",
      "2021-01-08 00:11:32\n",
      "ELBO (avg): -9.94e+10 log p(x|z): (avg) -9.94e+12 \n",
      "__test__\n",
      "Stage Beginning\n",
      "2021-01-08 00:11:32\n",
      "Stage Finished\n",
      "2021-01-08 00:11:38\n",
      "ELBO (avg): -1.02e+11 log p(x|z): (avg) -1.02e+13 \n",
      "===========================================\n",
      "2021-01-08 00:11:38\n",
      "Epoch 13 / 20\n",
      "__train__\n",
      "Stage Beginning\n",
      "2021-01-08 00:11:38\n",
      "Stage Finished\n",
      "2021-01-08 00:12:23\n",
      "ELBO (avg): -9.90e+10 log p(x|z): (avg) -9.90e+12 \n",
      "__test__\n",
      "Stage Beginning\n",
      "2021-01-08 00:12:23\n",
      "Stage Finished\n",
      "2021-01-08 00:12:29\n",
      "ELBO (avg): -1.02e+11 log p(x|z): (avg) -1.02e+13 \n",
      "===========================================\n",
      "2021-01-08 00:12:29\n",
      "Epoch 14 / 20\n",
      "__train__\n",
      "Stage Beginning\n",
      "2021-01-08 00:12:29\n",
      "Stage Finished\n",
      "2021-01-08 00:13:14\n",
      "ELBO (avg): -9.88e+10 log p(x|z): (avg) -9.88e+12 \n",
      "__test__\n",
      "Stage Beginning\n",
      "2021-01-08 00:13:14\n",
      "Stage Finished\n",
      "2021-01-08 00:13:19\n",
      "ELBO (avg): -1.02e+11 log p(x|z): (avg) -1.02e+13 \n",
      "===========================================\n",
      "2021-01-08 00:13:19\n",
      "Epoch 15 / 20\n",
      "__train__\n",
      "Stage Beginning\n",
      "2021-01-08 00:13:19\n",
      "Stage Finished\n",
      "2021-01-08 00:14:05\n",
      "ELBO (avg): -9.86e+10 log p(x|z): (avg) -9.86e+12 \n",
      "__test__\n",
      "Stage Beginning\n",
      "2021-01-08 00:14:05\n",
      "Stage Finished\n",
      "2021-01-08 00:14:11\n",
      "ELBO (avg): -1.02e+11 log p(x|z): (avg) -1.02e+13 \n",
      "===========================================\n",
      "2021-01-08 00:14:11\n",
      "Epoch 16 / 20\n",
      "__train__\n",
      "Stage Beginning\n",
      "2021-01-08 00:14:11\n"
     ]
    },
    {
     "name": "stderr",
     "output_type": "stream",
     "text": [
      "ERROR:root:Internal Python error in the inspect module.\n",
      "Below is the traceback from this internal error.\n",
      "\n"
     ]
    },
    {
     "name": "stdout",
     "output_type": "stream",
     "text": [
      "Traceback (most recent call last):\n",
      "  File \"/home/owhitley/anaconda3/envs/pytorch36/lib/python3.6/site-packages/IPython/core/interactiveshell.py\", line 3343, in run_code\n",
      "    exec(code_obj, self.user_global_ns, self.user_ns)\n",
      "  File \"<ipython-input-45-aa47bc0a6ef5>\", line 2, in <module>\n",
      "    VAE_Trainer.train(num_epochs = n_epochs, batch_size = 100)\n",
      "  File \"<ipython-input-33-fd033a7c3c43>\", line 58, in train\n",
      "    loss.backward()\n",
      "  File \"/home/owhitley/anaconda3/envs/pytorch36/lib/python3.6/site-packages/torch/tensor.py\", line 185, in backward\n",
      "    torch.autograd.backward(self, gradient, retain_graph, create_graph)\n",
      "  File \"/home/owhitley/anaconda3/envs/pytorch36/lib/python3.6/site-packages/torch/autograd/__init__.py\", line 127, in backward\n",
      "    allow_unreachable=True)  # allow_unreachable flag\n",
      "KeyboardInterrupt\n",
      "\n",
      "During handling of the above exception, another exception occurred:\n",
      "\n",
      "Traceback (most recent call last):\n",
      "  File \"/home/owhitley/anaconda3/envs/pytorch36/lib/python3.6/site-packages/IPython/core/interactiveshell.py\", line 2044, in showtraceback\n",
      "    stb = value._render_traceback_()\n",
      "AttributeError: 'KeyboardInterrupt' object has no attribute '_render_traceback_'\n",
      "\n",
      "During handling of the above exception, another exception occurred:\n",
      "\n",
      "Traceback (most recent call last):\n",
      "  File \"/home/owhitley/anaconda3/envs/pytorch36/lib/python3.6/site-packages/IPython/core/ultratb.py\", line 1169, in get_records\n",
      "    return _fixed_getinnerframes(etb, number_of_lines_of_context, tb_offset)\n",
      "  File \"/home/owhitley/anaconda3/envs/pytorch36/lib/python3.6/site-packages/IPython/core/ultratb.py\", line 316, in wrapped\n",
      "    return f(*args, **kwargs)\n",
      "  File \"/home/owhitley/anaconda3/envs/pytorch36/lib/python3.6/site-packages/IPython/core/ultratb.py\", line 350, in _fixed_getinnerframes\n",
      "    records = fix_frame_records_filenames(inspect.getinnerframes(etb, context))\n",
      "  File \"/home/owhitley/anaconda3/envs/pytorch36/lib/python3.6/inspect.py\", line 1490, in getinnerframes\n",
      "    frameinfo = (tb.tb_frame,) + getframeinfo(tb, context)\n",
      "  File \"/home/owhitley/anaconda3/envs/pytorch36/lib/python3.6/inspect.py\", line 1448, in getframeinfo\n",
      "    filename = getsourcefile(frame) or getfile(frame)\n",
      "  File \"/home/owhitley/anaconda3/envs/pytorch36/lib/python3.6/inspect.py\", line 696, in getsourcefile\n",
      "    if getattr(getmodule(object, filename), '__loader__', None) is not None:\n",
      "  File \"/home/owhitley/anaconda3/envs/pytorch36/lib/python3.6/inspect.py\", line 742, in getmodule\n",
      "    os.path.realpath(f)] = module.__name__\n",
      "  File \"/home/owhitley/anaconda3/envs/pytorch36/lib/python3.6/posixpath.py\", line 395, in realpath\n",
      "    path, ok = _joinrealpath(filename[:0], filename, {})\n",
      "  File \"/home/owhitley/anaconda3/envs/pytorch36/lib/python3.6/posixpath.py\", line 429, in _joinrealpath\n",
      "    if not islink(newpath):\n",
      "  File \"/home/owhitley/anaconda3/envs/pytorch36/lib/python3.6/posixpath.py\", line 171, in islink\n",
      "    st = os.lstat(path)\n",
      "KeyboardInterrupt\n"
     ]
    },
    {
     "ename": "TypeError",
     "evalue": "object of type 'NoneType' has no len()",
     "output_type": "error",
     "traceback": [
      "\u001b[0;31m---------------------------------------------------------------------------\u001b[0m",
      "\u001b[0;31mKeyboardInterrupt\u001b[0m                         Traceback (most recent call last)",
      "    \u001b[0;31m[... skipping hidden 1 frame]\u001b[0m\n",
      "\u001b[0;32m<ipython-input-45-aa47bc0a6ef5>\u001b[0m in \u001b[0;36m<module>\u001b[0;34m\u001b[0m\n\u001b[1;32m      1\u001b[0m \u001b[0mn_epochs\u001b[0m \u001b[0;34m=\u001b[0m \u001b[0;36m20\u001b[0m\u001b[0;34m\u001b[0m\u001b[0;34m\u001b[0m\u001b[0m\n\u001b[0;32m----> 2\u001b[0;31m \u001b[0mVAE_Trainer\u001b[0m\u001b[0;34m.\u001b[0m\u001b[0mtrain\u001b[0m\u001b[0;34m(\u001b[0m\u001b[0mnum_epochs\u001b[0m \u001b[0;34m=\u001b[0m \u001b[0mn_epochs\u001b[0m\u001b[0;34m,\u001b[0m \u001b[0mbatch_size\u001b[0m \u001b[0;34m=\u001b[0m \u001b[0;36m100\u001b[0m\u001b[0;34m)\u001b[0m\u001b[0;34m\u001b[0m\u001b[0;34m\u001b[0m\u001b[0m\n\u001b[0m",
      "\u001b[0;32m<ipython-input-33-fd033a7c3c43>\u001b[0m in \u001b[0;36mtrain\u001b[0;34m(self, num_epochs, batch_size)\u001b[0m\n\u001b[1;32m     57\u001b[0m                             \u001b[0mself\u001b[0m\u001b[0;34m.\u001b[0m\u001b[0moptimizer\u001b[0m\u001b[0;34m.\u001b[0m\u001b[0mzero_grad\u001b[0m\u001b[0;34m(\u001b[0m\u001b[0;34m)\u001b[0m\u001b[0;34m\u001b[0m\u001b[0;34m\u001b[0m\u001b[0m\n\u001b[0;32m---> 58\u001b[0;31m                             \u001b[0mloss\u001b[0m\u001b[0;34m.\u001b[0m\u001b[0mbackward\u001b[0m\u001b[0;34m(\u001b[0m\u001b[0;34m)\u001b[0m\u001b[0;34m\u001b[0m\u001b[0;34m\u001b[0m\u001b[0m\n\u001b[0m\u001b[1;32m     59\u001b[0m                             \u001b[0mself\u001b[0m\u001b[0;34m.\u001b[0m\u001b[0moptimizer\u001b[0m\u001b[0;34m.\u001b[0m\u001b[0mstep\u001b[0m\u001b[0;34m(\u001b[0m\u001b[0;34m)\u001b[0m\u001b[0;34m\u001b[0m\u001b[0;34m\u001b[0m\u001b[0m\n",
      "\u001b[0;32m~/anaconda3/envs/pytorch36/lib/python3.6/site-packages/torch/tensor.py\u001b[0m in \u001b[0;36mbackward\u001b[0;34m(self, gradient, retain_graph, create_graph)\u001b[0m\n\u001b[1;32m    184\u001b[0m         \"\"\"\n\u001b[0;32m--> 185\u001b[0;31m         \u001b[0mtorch\u001b[0m\u001b[0;34m.\u001b[0m\u001b[0mautograd\u001b[0m\u001b[0;34m.\u001b[0m\u001b[0mbackward\u001b[0m\u001b[0;34m(\u001b[0m\u001b[0mself\u001b[0m\u001b[0;34m,\u001b[0m \u001b[0mgradient\u001b[0m\u001b[0;34m,\u001b[0m \u001b[0mretain_graph\u001b[0m\u001b[0;34m,\u001b[0m \u001b[0mcreate_graph\u001b[0m\u001b[0;34m)\u001b[0m\u001b[0;34m\u001b[0m\u001b[0;34m\u001b[0m\u001b[0m\n\u001b[0m\u001b[1;32m    186\u001b[0m \u001b[0;34m\u001b[0m\u001b[0m\n",
      "\u001b[0;32m~/anaconda3/envs/pytorch36/lib/python3.6/site-packages/torch/autograd/__init__.py\u001b[0m in \u001b[0;36mbackward\u001b[0;34m(tensors, grad_tensors, retain_graph, create_graph, grad_variables)\u001b[0m\n\u001b[1;32m    126\u001b[0m         \u001b[0mtensors\u001b[0m\u001b[0;34m,\u001b[0m \u001b[0mgrad_tensors\u001b[0m\u001b[0;34m,\u001b[0m \u001b[0mretain_graph\u001b[0m\u001b[0;34m,\u001b[0m \u001b[0mcreate_graph\u001b[0m\u001b[0;34m,\u001b[0m\u001b[0;34m\u001b[0m\u001b[0;34m\u001b[0m\u001b[0m\n\u001b[0;32m--> 127\u001b[0;31m         allow_unreachable=True)  # allow_unreachable flag\n\u001b[0m\u001b[1;32m    128\u001b[0m \u001b[0;34m\u001b[0m\u001b[0m\n",
      "\u001b[0;31mKeyboardInterrupt\u001b[0m: ",
      "\nDuring handling of the above exception, another exception occurred:\n",
      "\u001b[0;31mAttributeError\u001b[0m                            Traceback (most recent call last)",
      "\u001b[0;32m~/anaconda3/envs/pytorch36/lib/python3.6/site-packages/IPython/core/interactiveshell.py\u001b[0m in \u001b[0;36mshowtraceback\u001b[0;34m(self, exc_tuple, filename, tb_offset, exception_only, running_compiled_code)\u001b[0m\n\u001b[1;32m   2043\u001b[0m                         \u001b[0;31m# in the engines. This should return a list of strings.\u001b[0m\u001b[0;34m\u001b[0m\u001b[0;34m\u001b[0m\u001b[0;34m\u001b[0m\u001b[0m\n\u001b[0;32m-> 2044\u001b[0;31m                         \u001b[0mstb\u001b[0m \u001b[0;34m=\u001b[0m \u001b[0mvalue\u001b[0m\u001b[0;34m.\u001b[0m\u001b[0m_render_traceback_\u001b[0m\u001b[0;34m(\u001b[0m\u001b[0;34m)\u001b[0m\u001b[0;34m\u001b[0m\u001b[0;34m\u001b[0m\u001b[0m\n\u001b[0m\u001b[1;32m   2045\u001b[0m                     \u001b[0;32mexcept\u001b[0m \u001b[0mException\u001b[0m\u001b[0;34m:\u001b[0m\u001b[0;34m\u001b[0m\u001b[0;34m\u001b[0m\u001b[0m\n",
      "\u001b[0;31mAttributeError\u001b[0m: 'KeyboardInterrupt' object has no attribute '_render_traceback_'",
      "\nDuring handling of the above exception, another exception occurred:\n",
      "\u001b[0;31mTypeError\u001b[0m                                 Traceback (most recent call last)",
      "    \u001b[0;31m[... skipping hidden 1 frame]\u001b[0m\n",
      "\u001b[0;32m~/anaconda3/envs/pytorch36/lib/python3.6/site-packages/IPython/core/interactiveshell.py\u001b[0m in \u001b[0;36mshowtraceback\u001b[0;34m(self, exc_tuple, filename, tb_offset, exception_only, running_compiled_code)\u001b[0m\n\u001b[1;32m   2045\u001b[0m                     \u001b[0;32mexcept\u001b[0m \u001b[0mException\u001b[0m\u001b[0;34m:\u001b[0m\u001b[0;34m\u001b[0m\u001b[0;34m\u001b[0m\u001b[0m\n\u001b[1;32m   2046\u001b[0m                         stb = self.InteractiveTB.structured_traceback(etype,\n\u001b[0;32m-> 2047\u001b[0;31m                                             value, tb, tb_offset=tb_offset)\n\u001b[0m\u001b[1;32m   2048\u001b[0m \u001b[0;34m\u001b[0m\u001b[0m\n\u001b[1;32m   2049\u001b[0m                     \u001b[0mself\u001b[0m\u001b[0;34m.\u001b[0m\u001b[0m_showtraceback\u001b[0m\u001b[0;34m(\u001b[0m\u001b[0metype\u001b[0m\u001b[0;34m,\u001b[0m \u001b[0mvalue\u001b[0m\u001b[0;34m,\u001b[0m \u001b[0mstb\u001b[0m\u001b[0;34m)\u001b[0m\u001b[0;34m\u001b[0m\u001b[0;34m\u001b[0m\u001b[0m\n",
      "\u001b[0;32m~/anaconda3/envs/pytorch36/lib/python3.6/site-packages/IPython/core/ultratb.py\u001b[0m in \u001b[0;36mstructured_traceback\u001b[0;34m(self, etype, value, tb, tb_offset, number_of_lines_of_context)\u001b[0m\n\u001b[1;32m   1434\u001b[0m             \u001b[0mself\u001b[0m\u001b[0;34m.\u001b[0m\u001b[0mtb\u001b[0m \u001b[0;34m=\u001b[0m \u001b[0mtb\u001b[0m\u001b[0;34m\u001b[0m\u001b[0;34m\u001b[0m\u001b[0m\n\u001b[1;32m   1435\u001b[0m         return FormattedTB.structured_traceback(\n\u001b[0;32m-> 1436\u001b[0;31m             self, etype, value, tb, tb_offset, number_of_lines_of_context)\n\u001b[0m\u001b[1;32m   1437\u001b[0m \u001b[0;34m\u001b[0m\u001b[0m\n\u001b[1;32m   1438\u001b[0m \u001b[0;34m\u001b[0m\u001b[0m\n",
      "\u001b[0;32m~/anaconda3/envs/pytorch36/lib/python3.6/site-packages/IPython/core/ultratb.py\u001b[0m in \u001b[0;36mstructured_traceback\u001b[0;34m(self, etype, value, tb, tb_offset, number_of_lines_of_context)\u001b[0m\n\u001b[1;32m   1334\u001b[0m             \u001b[0;31m# Verbose modes need a full traceback\u001b[0m\u001b[0;34m\u001b[0m\u001b[0;34m\u001b[0m\u001b[0;34m\u001b[0m\u001b[0m\n\u001b[1;32m   1335\u001b[0m             return VerboseTB.structured_traceback(\n\u001b[0;32m-> 1336\u001b[0;31m                 \u001b[0mself\u001b[0m\u001b[0;34m,\u001b[0m \u001b[0metype\u001b[0m\u001b[0;34m,\u001b[0m \u001b[0mvalue\u001b[0m\u001b[0;34m,\u001b[0m \u001b[0mtb\u001b[0m\u001b[0;34m,\u001b[0m \u001b[0mtb_offset\u001b[0m\u001b[0;34m,\u001b[0m \u001b[0mnumber_of_lines_of_context\u001b[0m\u001b[0;34m\u001b[0m\u001b[0;34m\u001b[0m\u001b[0m\n\u001b[0m\u001b[1;32m   1337\u001b[0m             )\n\u001b[1;32m   1338\u001b[0m         \u001b[0;32melif\u001b[0m \u001b[0mmode\u001b[0m \u001b[0;34m==\u001b[0m \u001b[0;34m'Minimal'\u001b[0m\u001b[0;34m:\u001b[0m\u001b[0;34m\u001b[0m\u001b[0;34m\u001b[0m\u001b[0m\n",
      "\u001b[0;32m~/anaconda3/envs/pytorch36/lib/python3.6/site-packages/IPython/core/ultratb.py\u001b[0m in \u001b[0;36mstructured_traceback\u001b[0;34m(self, etype, evalue, etb, tb_offset, number_of_lines_of_context)\u001b[0m\n\u001b[1;32m   1191\u001b[0m \u001b[0;34m\u001b[0m\u001b[0m\n\u001b[1;32m   1192\u001b[0m         formatted_exception = self.format_exception_as_a_whole(etype, evalue, etb, number_of_lines_of_context,\n\u001b[0;32m-> 1193\u001b[0;31m                                                                tb_offset)\n\u001b[0m\u001b[1;32m   1194\u001b[0m \u001b[0;34m\u001b[0m\u001b[0m\n\u001b[1;32m   1195\u001b[0m         \u001b[0mcolors\u001b[0m \u001b[0;34m=\u001b[0m \u001b[0mself\u001b[0m\u001b[0;34m.\u001b[0m\u001b[0mColors\u001b[0m  \u001b[0;31m# just a shorthand + quicker name lookup\u001b[0m\u001b[0;34m\u001b[0m\u001b[0;34m\u001b[0m\u001b[0m\n",
      "\u001b[0;32m~/anaconda3/envs/pytorch36/lib/python3.6/site-packages/IPython/core/ultratb.py\u001b[0m in \u001b[0;36mformat_exception_as_a_whole\u001b[0;34m(self, etype, evalue, etb, number_of_lines_of_context, tb_offset)\u001b[0m\n\u001b[1;32m   1148\u001b[0m \u001b[0;34m\u001b[0m\u001b[0m\n\u001b[1;32m   1149\u001b[0m \u001b[0;34m\u001b[0m\u001b[0m\n\u001b[0;32m-> 1150\u001b[0;31m         \u001b[0mlast_unique\u001b[0m\u001b[0;34m,\u001b[0m \u001b[0mrecursion_repeat\u001b[0m \u001b[0;34m=\u001b[0m \u001b[0mfind_recursion\u001b[0m\u001b[0;34m(\u001b[0m\u001b[0morig_etype\u001b[0m\u001b[0;34m,\u001b[0m \u001b[0mevalue\u001b[0m\u001b[0;34m,\u001b[0m \u001b[0mrecords\u001b[0m\u001b[0;34m)\u001b[0m\u001b[0;34m\u001b[0m\u001b[0;34m\u001b[0m\u001b[0m\n\u001b[0m\u001b[1;32m   1151\u001b[0m \u001b[0;34m\u001b[0m\u001b[0m\n\u001b[1;32m   1152\u001b[0m         \u001b[0mframes\u001b[0m \u001b[0;34m=\u001b[0m \u001b[0mself\u001b[0m\u001b[0;34m.\u001b[0m\u001b[0mformat_records\u001b[0m\u001b[0;34m(\u001b[0m\u001b[0mrecords\u001b[0m\u001b[0;34m,\u001b[0m \u001b[0mlast_unique\u001b[0m\u001b[0;34m,\u001b[0m \u001b[0mrecursion_repeat\u001b[0m\u001b[0;34m)\u001b[0m\u001b[0;34m\u001b[0m\u001b[0;34m\u001b[0m\u001b[0m\n",
      "\u001b[0;32m~/anaconda3/envs/pytorch36/lib/python3.6/site-packages/IPython/core/ultratb.py\u001b[0m in \u001b[0;36mfind_recursion\u001b[0;34m(etype, value, records)\u001b[0m\n\u001b[1;32m    449\u001b[0m     \u001b[0;31m# first frame (from in to out) that looks different.\u001b[0m\u001b[0;34m\u001b[0m\u001b[0;34m\u001b[0m\u001b[0;34m\u001b[0m\u001b[0m\n\u001b[1;32m    450\u001b[0m     \u001b[0;32mif\u001b[0m \u001b[0;32mnot\u001b[0m \u001b[0mis_recursion_error\u001b[0m\u001b[0;34m(\u001b[0m\u001b[0metype\u001b[0m\u001b[0;34m,\u001b[0m \u001b[0mvalue\u001b[0m\u001b[0;34m,\u001b[0m \u001b[0mrecords\u001b[0m\u001b[0;34m)\u001b[0m\u001b[0;34m:\u001b[0m\u001b[0;34m\u001b[0m\u001b[0;34m\u001b[0m\u001b[0m\n\u001b[0;32m--> 451\u001b[0;31m         \u001b[0;32mreturn\u001b[0m \u001b[0mlen\u001b[0m\u001b[0;34m(\u001b[0m\u001b[0mrecords\u001b[0m\u001b[0;34m)\u001b[0m\u001b[0;34m,\u001b[0m \u001b[0;36m0\u001b[0m\u001b[0;34m\u001b[0m\u001b[0;34m\u001b[0m\u001b[0m\n\u001b[0m\u001b[1;32m    452\u001b[0m \u001b[0;34m\u001b[0m\u001b[0m\n\u001b[1;32m    453\u001b[0m     \u001b[0;31m# Select filename, lineno, func_name to track frames with\u001b[0m\u001b[0;34m\u001b[0m\u001b[0;34m\u001b[0m\u001b[0;34m\u001b[0m\u001b[0m\n",
      "\u001b[0;31mTypeError\u001b[0m: object of type 'NoneType' has no len()"
     ]
    }
   ],
   "source": [
    "n_epochs = 20\n",
    "VAE_Trainer.train(num_epochs = n_epochs, batch_size = 100)"
   ]
  },
  {
   "cell_type": "code",
   "execution_count": null,
   "metadata": {},
   "outputs": [],
   "source": [
    "# plt.plot(np.arange(n_epochs + 1) + 1, VAE_Trainer.running_stats['train']['avg_elbo'], label = 'train')\n",
    "# plt.plot(np.arange(n_epochs + 1) + 1, VAE_Trainer.running_stats['test']['avg_elbo'], label = 'test')\n",
    "# plt.xlabel('epochs')\n",
    "# plt.ylabel('elbo')\n",
    "# plt.legend()\n",
    "# plt.show()"
   ]
  },
  {
   "cell_type": "code",
   "execution_count": null,
   "metadata": {},
   "outputs": [],
   "source": [
    "# VAE_Trainer.running_stats['train']['avg_elbo']"
   ]
  },
  {
   "cell_type": "code",
   "execution_count": null,
   "metadata": {},
   "outputs": [],
   "source": [
    "# VAE_Trainer.running_stats['test']['avg_elbo']"
   ]
  },
  {
   "cell_type": "code",
   "execution_count": null,
   "metadata": {},
   "outputs": [],
   "source": [
    "# train_loader = DataLoader(VAE_Trainer.SplitData['train'], batch_size=100,\n",
    "#                                   shuffle=True, num_workers=0, drop_last = True)"
   ]
  },
  {
   "cell_type": "code",
   "execution_count": null,
   "metadata": {},
   "outputs": [],
   "source": [
    "# batch = next(iter(train_loader))"
   ]
  },
  {
   "cell_type": "code",
   "execution_count": null,
   "metadata": {},
   "outputs": [],
   "source": [
    "# batch['image'].shape"
   ]
  },
  {
   "cell_type": "code",
   "execution_count": null,
   "metadata": {},
   "outputs": [],
   "source": [
    "# for batch in train_loader:\n",
    "#     print(batch['image'].shape)"
   ]
  },
  {
   "cell_type": "code",
   "execution_count": null,
   "metadata": {},
   "outputs": [],
   "source": [
    "# check output\n",
    "result = VAE_Trainer.VAE.forward(batch['image'])"
   ]
  },
  {
   "cell_type": "code",
   "execution_count": null,
   "metadata": {},
   "outputs": [],
   "source": [
    "# result[0]"
   ]
  },
  {
   "cell_type": "code",
   "execution_count": null,
   "metadata": {},
   "outputs": [],
   "source": [
    "# result[1].shape"
   ]
  },
  {
   "cell_type": "code",
   "execution_count": null,
   "metadata": {},
   "outputs": [],
   "source": [
    "# result[2].shape"
   ]
  },
  {
   "cell_type": "code",
   "execution_count": null,
   "metadata": {},
   "outputs": [],
   "source": [
    "# result[3].shape"
   ]
  },
  {
   "cell_type": "code",
   "execution_count": null,
   "metadata": {},
   "outputs": [],
   "source": [
    "# recon_x, z, mu, logvar = VAE_Trainer.VAE.forward(batch['image'])"
   ]
  },
  {
   "cell_type": "code",
   "execution_count": null,
   "metadata": {},
   "outputs": [],
   "source": [
    "for p in VAE_Trainer.VAE.parameters():\n",
    "    print(p)"
   ]
  },
  {
   "cell_type": "code",
   "execution_count": null,
   "metadata": {},
   "outputs": [],
   "source": [
    "VAE_Trainer.VAE.parameters()"
   ]
  },
  {
   "cell_type": "code",
   "execution_count": null,
   "metadata": {},
   "outputs": [],
   "source": [
    "VAE = VAE_Trainer.VAE\n",
    "torch.save(VAE.state_dict(), path = os.path.join(output_dir, 'VAE_state_dict_trained.pt'))"
   ]
  }
 ],
 "metadata": {
  "kernelspec": {
   "display_name": "Python 3",
   "language": "python",
   "name": "python3"
  },
  "language_info": {
   "codemirror_mode": {
    "name": "ipython",
    "version": 3
   },
   "file_extension": ".py",
   "mimetype": "text/x-python",
   "name": "python",
   "nbconvert_exporter": "python",
   "pygments_lexer": "ipython3",
   "version": "3.6.12"
  }
 },
 "nbformat": 4,
 "nbformat_minor": 4
}
